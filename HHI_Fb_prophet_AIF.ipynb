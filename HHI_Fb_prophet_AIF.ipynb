{
  "nbformat": 4,
  "nbformat_minor": 0,
  "metadata": {
    "colab": {
      "name": "HHI Fb prophet - AIF ",
      "provenance": [],
      "collapsed_sections": [],
      "toc_visible": true,
      "include_colab_link": true
    },
    "kernelspec": {
      "name": "python3",
      "display_name": "Python 3"
    }
  },
  "cells": [
    {
      "cell_type": "markdown",
      "metadata": {
        "id": "view-in-github",
        "colab_type": "text"
      },
      "source": [
        "<a href=\"https://colab.research.google.com/github/GouthamKumar-R/Time-series/blob/main/HHI_Fb_prophet_AIF.ipynb\" target=\"_parent\"><img src=\"https://colab.research.google.com/assets/colab-badge.svg\" alt=\"Open In Colab\"/></a>"
      ]
    },
    {
      "cell_type": "markdown",
      "metadata": {
        "id": "cziDO408-4oN"
      },
      "source": [
        "# AIF Time Series Assignment"
      ]
    },
    {
      "cell_type": "markdown",
      "metadata": {
        "id": "Gk6kjCaq67sg"
      },
      "source": [
        "Group No. 4 members\r\n",
        "* Chithra Nair\r\n",
        "* David Jose Paliakkara\r\n",
        "* Kaviya U C\r\n",
        "* Gautam Periyaswamy\r\n",
        "* Goutham Kumar R\r\n",
        "* Roopini Mohanchander\r\n",
        "* Saurabh Gupta"
      ]
    },
    {
      "cell_type": "markdown",
      "metadata": {
        "id": "QirN1maF-k8F"
      },
      "source": [
        "This Notebook was created in google colab- for better readability use the below link.\r\n",
        "* https://colab.research.google.com/drive/1oHp9ypqXpTUjeXOIsIgAs7ustCa86K3J?usp=sharing"
      ]
    },
    {
      "cell_type": "markdown",
      "metadata": {
        "id": "NWmTNKS0BgAO"
      },
      "source": [
        "**Objective**: <br/>\r\n",
        "Forecast Median HHI for the given timeperiod: January-2019 to December-2022, using historic data available from January-2004 till December-2018. (We would take data from July-2017 to December-2018 as hold out data to check the model performance).\r\n",
        "\r\n",
        "**Notebook Summary:**<br/>\r\n",
        "In this Notebook, \r\n",
        "* We have done basic EDA\r\n",
        "* Stationarity test\r\n",
        "* Heuristic method -Double Exponential smoothing(DES)\r\n",
        "* Evaluation for DES (Rsq = 0.831)\r\n",
        "* Facebook Prophet \r\n",
        "* Hperparameter optimisation\r\n",
        "* Evaluation for Prophet model\r\n",
        "\r\n",
        "Final, <br/>\r\n",
        "**Rsquared achieved : 0.969** "
      ]
    },
    {
      "cell_type": "markdown",
      "metadata": {
        "id": "3NRgpsjj644a"
      },
      "source": [
        "## Libraries"
      ]
    },
    {
      "cell_type": "code",
      "metadata": {
        "id": "CS27KK8ckAdH"
      },
      "source": [
        "import pandas as pd\r\n",
        "import numpy as np\r\n",
        "import matplotlib.pyplot as plt\r\n",
        "import seaborn as sns\r\n",
        "\r\n",
        "import fbprophet\r\n",
        "from fbprophet import Prophet\r\n",
        "\r\n",
        "#ignore warnings\r\n",
        "import warnings\r\n",
        "warnings.filterwarnings(\"ignore\")"
      ],
      "execution_count": 1,
      "outputs": []
    },
    {
      "cell_type": "code",
      "metadata": {
        "colab": {
          "resources": {
            "http://localhost:8080/nbextensions/google.colab/files.js": {
              "data": "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",
              "ok": true,
              "headers": [
                [
                  "content-type",
                  "application/javascript"
                ]
              ],
              "status": 200,
              "status_text": ""
            }
          },
          "base_uri": "https://localhost:8080/",
          "height": 108
        },
        "id": "PnVZJp8tkzoF",
        "outputId": "1f7f6530-8648-4159-9245-9e0e76cad108"
      },
      "source": [
        "from google.colab import files \r\n",
        "uploaded = files.upload()"
      ],
      "execution_count": 2,
      "outputs": [
        {
          "output_type": "display_data",
          "data": {
            "text/html": [
              "\n",
              "     <input type=\"file\" id=\"files-cebeb494-b185-446f-832a-43d16dc55681\" name=\"files[]\" multiple disabled\n",
              "        style=\"border:none\" />\n",
              "     <output id=\"result-cebeb494-b185-446f-832a-43d16dc55681\">\n",
              "      Upload widget is only available when the cell has been executed in the\n",
              "      current browser session. Please rerun this cell to enable.\n",
              "      </output>\n",
              "      <script src=\"/nbextensions/google.colab/files.js\"></script> "
            ],
            "text/plain": [
              "<IPython.core.display.HTML object>"
            ]
          },
          "metadata": {
            "tags": []
          }
        },
        {
          "output_type": "stream",
          "text": [
            "Saving HHI-test.xlsx to HHI-test.xlsx\n",
            "Saving HHI-train.xlsx to HHI-train.xlsx\n"
          ],
          "name": "stdout"
        }
      ]
    },
    {
      "cell_type": "markdown",
      "metadata": {
        "id": "x-_3DV6M612q"
      },
      "source": [
        "## Importing Dataset"
      ]
    },
    {
      "cell_type": "code",
      "metadata": {
        "id": "koRACqfLkF4c"
      },
      "source": [
        "import io\r\n",
        "\r\n",
        "train_df = pd.read_excel(io.BytesIO(uploaded['HHI-train.xlsx']))\r\n",
        "test_df = pd.read_excel(io.BytesIO(uploaded['HHI-test.xlsx']))"
      ],
      "execution_count": 119,
      "outputs": []
    },
    {
      "cell_type": "code",
      "metadata": {
        "id": "9jlAolWWksOT",
        "colab": {
          "base_uri": "https://localhost:8080/",
          "height": 198
        },
        "outputId": "db70e603-bc35-48bf-8c51-97a4369fd949"
      },
      "source": [
        "df = train_df\r\n",
        "df.head()"
      ],
      "execution_count": 120,
      "outputs": [
        {
          "output_type": "execute_result",
          "data": {
            "text/html": [
              "<div>\n",
              "<style scoped>\n",
              "    .dataframe tbody tr th:only-of-type {\n",
              "        vertical-align: middle;\n",
              "    }\n",
              "\n",
              "    .dataframe tbody tr th {\n",
              "        vertical-align: top;\n",
              "    }\n",
              "\n",
              "    .dataframe thead th {\n",
              "        text-align: right;\n",
              "    }\n",
              "</style>\n",
              "<table border=\"1\" class=\"dataframe\">\n",
              "  <thead>\n",
              "    <tr style=\"text-align: right;\">\n",
              "      <th></th>\n",
              "      <th>Metric</th>\n",
              "      <th>Median Household Income</th>\n",
              "    </tr>\n",
              "  </thead>\n",
              "  <tbody>\n",
              "    <tr>\n",
              "      <th>0</th>\n",
              "      <td>2004-01-28</td>\n",
              "      <td>43996.755165</td>\n",
              "    </tr>\n",
              "    <tr>\n",
              "      <th>1</th>\n",
              "      <td>2004-02-28</td>\n",
              "      <td>44072.814835</td>\n",
              "    </tr>\n",
              "    <tr>\n",
              "      <th>2</th>\n",
              "      <td>2004-03-28</td>\n",
              "      <td>44154.120000</td>\n",
              "    </tr>\n",
              "    <tr>\n",
              "      <th>3</th>\n",
              "      <td>2004-04-28</td>\n",
              "      <td>44250.420000</td>\n",
              "    </tr>\n",
              "    <tr>\n",
              "      <th>4</th>\n",
              "      <td>2004-05-28</td>\n",
              "      <td>44349.930000</td>\n",
              "    </tr>\n",
              "  </tbody>\n",
              "</table>\n",
              "</div>"
            ],
            "text/plain": [
              "      Metric  Median Household Income\n",
              "0 2004-01-28             43996.755165\n",
              "1 2004-02-28             44072.814835\n",
              "2 2004-03-28             44154.120000\n",
              "3 2004-04-28             44250.420000\n",
              "4 2004-05-28             44349.930000"
            ]
          },
          "metadata": {
            "tags": []
          },
          "execution_count": 120
        }
      ]
    },
    {
      "cell_type": "code",
      "metadata": {
        "colab": {
          "base_uri": "https://localhost:8080/",
          "height": 295
        },
        "id": "0x4M1MCxlCOL",
        "outputId": "62f4ffa3-3e21-4afe-b45a-adabd3ff1709"
      },
      "source": [
        "#Plotting\r\n",
        "plt.plot(df[\"Metric\"], df[\"Median Household Income\"],'r')\r\n",
        "plt.title(\"HHI\")\r\n",
        "plt.xlabel(\"Year\")\r\n",
        "plt.ylabel(\"Income\")\r\n",
        "plt.show();"
      ],
      "execution_count": 121,
      "outputs": [
        {
          "output_type": "display_data",
          "data": {
            "image/png": "[encoded data removed]",
            "text/plain": [
              "<Figure size 432x288 with 1 Axes>"
            ]
          },
          "metadata": {
            "tags": [],
            "needs_background": "light"
          }
        }
      ]
    },
    {
      "cell_type": "code",
      "metadata": {
        "colab": {
          "base_uri": "https://localhost:8080/",
          "height": 198
        },
        "id": "B34XMBUvlGxI",
        "outputId": "bb37dde0-f2bb-4c1a-f1e5-d2c46413f2d6"
      },
      "source": [
        "#change datetype\r\n",
        "df[\"Metric\"] = pd.to_datetime(df[\"Metric\"])\r\n",
        "df.head()"
      ],
      "execution_count": 122,
      "outputs": [
        {
          "output_type": "execute_result",
          "data": {
            "text/html": [
              "<div>\n",
              "<style scoped>\n",
              "    .dataframe tbody tr th:only-of-type {\n",
              "        vertical-align: middle;\n",
              "    }\n",
              "\n",
              "    .dataframe tbody tr th {\n",
              "        vertical-align: top;\n",
              "    }\n",
              "\n",
              "    .dataframe thead th {\n",
              "        text-align: right;\n",
              "    }\n",
              "</style>\n",
              "<table border=\"1\" class=\"dataframe\">\n",
              "  <thead>\n",
              "    <tr style=\"text-align: right;\">\n",
              "      <th></th>\n",
              "      <th>Metric</th>\n",
              "      <th>Median Household Income</th>\n",
              "    </tr>\n",
              "  </thead>\n",
              "  <tbody>\n",
              "    <tr>\n",
              "      <th>0</th>\n",
              "      <td>2004-01-28</td>\n",
              "      <td>43996.755165</td>\n",
              "    </tr>\n",
              "    <tr>\n",
              "      <th>1</th>\n",
              "      <td>2004-02-28</td>\n",
              "      <td>44072.814835</td>\n",
              "    </tr>\n",
              "    <tr>\n",
              "      <th>2</th>\n",
              "      <td>2004-03-28</td>\n",
              "      <td>44154.120000</td>\n",
              "    </tr>\n",
              "    <tr>\n",
              "      <th>3</th>\n",
              "      <td>2004-04-28</td>\n",
              "      <td>44250.420000</td>\n",
              "    </tr>\n",
              "    <tr>\n",
              "      <th>4</th>\n",
              "      <td>2004-05-28</td>\n",
              "      <td>44349.930000</td>\n",
              "    </tr>\n",
              "  </tbody>\n",
              "</table>\n",
              "</div>"
            ],
            "text/plain": [
              "      Metric  Median Household Income\n",
              "0 2004-01-28             43996.755165\n",
              "1 2004-02-28             44072.814835\n",
              "2 2004-03-28             44154.120000\n",
              "3 2004-04-28             44250.420000\n",
              "4 2004-05-28             44349.930000"
            ]
          },
          "metadata": {
            "tags": []
          },
          "execution_count": 122
        }
      ]
    },
    {
      "cell_type": "code",
      "metadata": {
        "colab": {
          "base_uri": "https://localhost:8080/"
        },
        "id": "oJj2ZhpVlFQm",
        "outputId": "dec4043e-cf4b-4244-c08d-72f83c8c7e4f"
      },
      "source": [
        "df.dtypes"
      ],
      "execution_count": 123,
      "outputs": [
        {
          "output_type": "execute_result",
          "data": {
            "text/plain": [
              "Metric                     datetime64[ns]\n",
              "Median Household Income           float64\n",
              "dtype: object"
            ]
          },
          "metadata": {
            "tags": []
          },
          "execution_count": 123
        }
      ]
    },
    {
      "cell_type": "code",
      "metadata": {
        "id": "ZnAqBNi2LAlP"
      },
      "source": [
        "#first order Differencing\r\n",
        "df[\"Diff\"]=df[\"Median Household Income\"].diff()"
      ],
      "execution_count": 124,
      "outputs": []
    },
    {
      "cell_type": "code",
      "metadata": {
        "id": "Dboz-A4ePb4u"
      },
      "source": [
        "#second order Differencing\r\n",
        "df[\"Diff2\"]=df[\"Diff\"].diff()"
      ],
      "execution_count": 125,
      "outputs": []
    },
    {
      "cell_type": "code",
      "metadata": {
        "colab": {
          "base_uri": "https://localhost:8080/",
          "height": 198
        },
        "id": "jgfVy8dyN6kN",
        "outputId": "95bc7f32-df2b-4516-a13d-ac1da59eb094"
      },
      "source": [
        "df.head()"
      ],
      "execution_count": 126,
      "outputs": [
        {
          "output_type": "execute_result",
          "data": {
            "text/html": [
              "<div>\n",
              "<style scoped>\n",
              "    .dataframe tbody tr th:only-of-type {\n",
              "        vertical-align: middle;\n",
              "    }\n",
              "\n",
              "    .dataframe tbody tr th {\n",
              "        vertical-align: top;\n",
              "    }\n",
              "\n",
              "    .dataframe thead th {\n",
              "        text-align: right;\n",
              "    }\n",
              "</style>\n",
              "<table border=\"1\" class=\"dataframe\">\n",
              "  <thead>\n",
              "    <tr style=\"text-align: right;\">\n",
              "      <th></th>\n",
              "      <th>Metric</th>\n",
              "      <th>Median Household Income</th>\n",
              "      <th>Diff</th>\n",
              "      <th>Diff2</th>\n",
              "    </tr>\n",
              "  </thead>\n",
              "  <tbody>\n",
              "    <tr>\n",
              "      <th>0</th>\n",
              "      <td>2004-01-28</td>\n",
              "      <td>43996.755165</td>\n",
              "      <td>NaN</td>\n",
              "      <td>NaN</td>\n",
              "    </tr>\n",
              "    <tr>\n",
              "      <th>1</th>\n",
              "      <td>2004-02-28</td>\n",
              "      <td>44072.814835</td>\n",
              "      <td>76.059670</td>\n",
              "      <td>NaN</td>\n",
              "    </tr>\n",
              "    <tr>\n",
              "      <th>2</th>\n",
              "      <td>2004-03-28</td>\n",
              "      <td>44154.120000</td>\n",
              "      <td>81.305165</td>\n",
              "      <td>5.245494</td>\n",
              "    </tr>\n",
              "    <tr>\n",
              "      <th>3</th>\n",
              "      <td>2004-04-28</td>\n",
              "      <td>44250.420000</td>\n",
              "      <td>96.300000</td>\n",
              "      <td>14.994835</td>\n",
              "    </tr>\n",
              "    <tr>\n",
              "      <th>4</th>\n",
              "      <td>2004-05-28</td>\n",
              "      <td>44349.930000</td>\n",
              "      <td>99.510000</td>\n",
              "      <td>3.210000</td>\n",
              "    </tr>\n",
              "  </tbody>\n",
              "</table>\n",
              "</div>"
            ],
            "text/plain": [
              "      Metric  Median Household Income       Diff      Diff2\n",
              "0 2004-01-28             43996.755165        NaN        NaN\n",
              "1 2004-02-28             44072.814835  76.059670        NaN\n",
              "2 2004-03-28             44154.120000  81.305165   5.245494\n",
              "3 2004-04-28             44250.420000  96.300000  14.994835\n",
              "4 2004-05-28             44349.930000  99.510000   3.210000"
            ]
          },
          "metadata": {
            "tags": []
          },
          "execution_count": 126
        }
      ]
    },
    {
      "cell_type": "code",
      "metadata": {
        "colab": {
          "base_uri": "https://localhost:8080/"
        },
        "id": "yO2tQ9exlJuD",
        "outputId": "8e93d4fb-b1b2-4b26-e14c-e9f11801081d"
      },
      "source": [
        "df.dtypes"
      ],
      "execution_count": 127,
      "outputs": [
        {
          "output_type": "execute_result",
          "data": {
            "text/plain": [
              "Metric                     datetime64[ns]\n",
              "Median Household Income           float64\n",
              "Diff                              float64\n",
              "Diff2                             float64\n",
              "dtype: object"
            ]
          },
          "metadata": {
            "tags": []
          },
          "execution_count": 127
        }
      ]
    },
    {
      "cell_type": "markdown",
      "metadata": {
        "id": "sqp4n-Lj7IjJ"
      },
      "source": [
        "## Stationarity test"
      ]
    },
    {
      "cell_type": "markdown",
      "metadata": {
        "id": "7gKbZPvQ1oX7"
      },
      "source": [
        "**Augmented Dickey-Fuller Test**\r\n",
        "This is a statistical procedure to suss out whether a time series is stationary or not.Things to do\r\n",
        "\r\n",
        "Frame Hypothesis\r\n",
        "\r\n",
        "* Null hypothesis: the series is nonstationary.\r\n",
        "* Alternative hypothesis: the series is stationary.\r\n",
        "Like any statistical test you should set a significance level or threshold that determines whether you should accept or reject the null."
      ]
    },
    {
      "cell_type": "code",
      "metadata": {
        "colab": {
          "base_uri": "https://localhost:8080/"
        },
        "id": "oWrrjvtelMg7",
        "outputId": "223c8f6a-b2f3-4395-88b6-0a8b9772e26d"
      },
      "source": [
        "#library\r\n",
        "from statsmodels.tsa.stattools import adfuller\r\n",
        "#passing stationary TS\r\n",
        "adf, pvalue, usedlag, nobs, critical_values, icbest = adfuller(df[\"Diff2\"][2:])\r\n",
        "print(\"1. ADF: {0};\\n2. p-value: {1};\".format(adf,pvalue))\r\n",
        "print(\"3. Critical values:\\n\",critical_values)"
      ],
      "execution_count": 128,
      "outputs": [
        {
          "output_type": "stream",
          "text": [
            "1. ADF: -6.568862598275265;\n",
            "2. p-value: 8.029903501692007e-09;\n",
            "3. Critical values:\n",
            " {'1%': -3.469648263987657, '5%': -2.878798906308495, '10%': -2.5759713094779593}\n"
          ],
          "name": "stdout"
        }
      ]
    },
    {
      "cell_type": "markdown",
      "metadata": {
        "id": "4jHPiuEe1B85"
      },
      "source": [
        "Interperting the Results:\r\n",
        "\r\n",
        "1. adf is the value of the test statistic. \r\n",
        "2. The more negative the value, the more confident we can be that the series is stationary. Here we see a value of -6.5688.<br/>\r\n",
        "pvalue is interpreted like any p-value. Once we set a threshold, we can compare this p-value to that threshold. Either we reject or fail to reject the null.<br/>Here pvalue is very close to zero (~$10^{-9}$) so we reject the null that this data is nonstationary.\r\n",
        "3. The critical_values variable provides test statistic threholds for common significant levels. Here we see a test statistic of roughly -2.89 and lower is sufficient to reject the null using a significance level of 5%.\r\n",
        "> From these reults, we can say that the TS is stationary."
      ]
    },
    {
      "cell_type": "markdown",
      "metadata": {
        "id": "amAOF2GG7PzR"
      },
      "source": [
        "## ACF and PACF plots"
      ]
    },
    {
      "cell_type": "code",
      "metadata": {
        "colab": {
          "base_uri": "https://localhost:8080/",
          "height": 281
        },
        "id": "fCF4YshIlUtJ",
        "outputId": "d4d6b7ae-4a9f-482b-f6ae-55d942c7c1da"
      },
      "source": [
        "#library\r\n",
        "import statsmodels.api as sm\r\n",
        "from statsmodels.graphics.tsaplots import plot_pacf, plot_acf\r\n",
        "\r\n",
        "fig = sm.tsa.graphics.plot_pacf(df[\"Diff2\"][2:], alpha=0.05, title = 'pacf check')"
      ],
      "execution_count": 129,
      "outputs": [
        {
          "output_type": "display_data",
          "data": {
            "image/png": "[encoded data removed]",
            "text/plain": [
              "<Figure size 432x288 with 1 Axes>"
            ]
          },
          "metadata": {
            "tags": [],
            "needs_background": "light"
          }
        }
      ]
    },
    {
      "cell_type": "code",
      "metadata": {
        "colab": {
          "base_uri": "https://localhost:8080/",
          "height": 281
        },
        "id": "UzqajNatlWk7",
        "outputId": "f6144a94-bc81-4d13-f573-062547be910e"
      },
      "source": [
        "fig = sm.tsa.graphics.plot_acf(df[\"Diff2\"][2:], alpha=0.05, title = 'acf check')"
      ],
      "execution_count": 86,
      "outputs": [
        {
          "output_type": "display_data",
          "data": {
            "image/png": "[encoded data removed]",
            "text/plain": [
              "<Figure size 432x288 with 1 Axes>"
            ]
          },
          "metadata": {
            "tags": [],
            "needs_background": "light"
          }
        }
      ]
    },
    {
      "cell_type": "markdown",
      "metadata": {
        "id": "vwiKE-AIewT8"
      },
      "source": [
        "# Double Expoential Smoothing"
      ]
    },
    {
      "cell_type": "code",
      "metadata": {
        "colab": {
          "base_uri": "https://localhost:8080/"
        },
        "id": "vPFQDfJoeses",
        "outputId": "22599c60-55ad-4e5b-8d43-19b17d626121"
      },
      "source": [
        "#library\r\n",
        "from statsmodels.tsa.api import Holt\r\n",
        "\r\n",
        "train_ds = train_data['y']\r\n",
        "des = Holt(train_ds).fit(optimized=True)\r\n",
        "des_preds = des.forecast(len(valdiation_data))\r\n",
        "\r\n",
        "des_preds"
      ],
      "execution_count": 114,
      "outputs": [
        {
          "output_type": "execute_result",
          "data": {
            "text/plain": [
              "162    59323.727483\n",
              "163    59474.992859\n",
              "164    59626.258235\n",
              "165    59777.523612\n",
              "166    59928.788988\n",
              "167    60080.054364\n",
              "168    60231.319741\n",
              "169    60382.585117\n",
              "170    60533.850493\n",
              "171    60685.115870\n",
              "172    60836.381246\n",
              "173    60987.646622\n",
              "174    61138.911999\n",
              "175    61290.177375\n",
              "176    61441.442751\n",
              "177    61592.708128\n",
              "178    61743.973504\n",
              "179    61895.238880\n",
              "dtype: float64"
            ]
          },
          "metadata": {
            "tags": []
          },
          "execution_count": 114
        }
      ]
    },
    {
      "cell_type": "code",
      "metadata": {
        "colab": {
          "base_uri": "https://localhost:8080/"
        },
        "id": "mH09ChOWf0Wd",
        "outputId": "d270c23d-eba4-4281-92dc-0bb6e84e4f4a"
      },
      "source": [
        "rmse_des = mean_squared_error(yactual, des_preds, squared=False)\r\n",
        "rmse_des"
      ],
      "execution_count": 115,
      "outputs": [
        {
          "output_type": "execute_result",
          "data": {
            "text/plain": [
              "383.3693480472215"
            ]
          },
          "metadata": {
            "tags": []
          },
          "execution_count": 115
        }
      ]
    },
    {
      "cell_type": "code",
      "metadata": {
        "colab": {
          "base_uri": "https://localhost:8080/"
        },
        "id": "p_eGYjmif_dT",
        "outputId": "09e55958-2d90-4071-d64a-ab254af971aa"
      },
      "source": [
        "r2_des = r2_score(yactual, des_preds)\r\n",
        "r2_des"
      ],
      "execution_count": 116,
      "outputs": [
        {
          "output_type": "execute_result",
          "data": {
            "text/plain": [
              "0.8315583741888694"
            ]
          },
          "metadata": {
            "tags": []
          },
          "execution_count": 116
        }
      ]
    },
    {
      "cell_type": "code",
      "metadata": {
        "colab": {
          "base_uri": "https://localhost:8080/",
          "height": 281
        },
        "id": "0OEHBDmtfDRH",
        "outputId": "7d45cb6d-2a4a-4eea-dea5-68c301891b0a"
      },
      "source": [
        "#plotting\r\n",
        "plt.plot(train_data['ds'],train_data['y'] , 'b--', label=\"train\")\r\n",
        "plt.plot(valdiation_data['ds'], valdiation_data['y'], color='orange', linestyle=\"--\", label=\"Validation\")\r\n",
        "plt.plot(valdiation_data['ds'], des_preds, 'r--', label=\"predictions\")\r\n",
        "plt.legend(loc='upper left')\r\n",
        "plt.title(\"Double Exponential Smoothing\");"
      ],
      "execution_count": 130,
      "outputs": [
        {
          "output_type": "display_data",
          "data": {
            "image/png": "[encoded data removed]",
            "text/plain": [
              "<Figure size 432x288 with 1 Axes>"
            ]
          },
          "metadata": {
            "tags": [],
            "needs_background": "light"
          }
        }
      ]
    },
    {
      "cell_type": "markdown",
      "metadata": {
        "id": "Jwp-YQOJ6vBQ"
      },
      "source": [
        "# Facebook Prophet"
      ]
    },
    {
      "cell_type": "markdown",
      "metadata": {
        "id": "eZcSge8LGTm3"
      },
      "source": [
        "**Prophet** is an general additive model that includes a number of highly advanced, intelligent forecasting methods, including changepoint analysis:\r\n",
        "\r\n",
        "_y = g(t) + s(t) + h(t) + $\\epsilon_t$_\r\n",
        "\r\n",
        "Here g(t) is the trend function which models non-periodic changes in the value of the time series, s(t) represents periodic changes (e.g., weekly and yearly seasonality), and h(t) represents the effects of holidays which occur on potentially irregular schedules over one or more days\r\n",
        "\r\n",
        "* For trend, a piecewise linear or logistic growth curve trend is used.\r\n",
        "** Prophet automatically detects changes in trends by selecting changepoints from the data.\r\n",
        "* For seasonalities, different seasonality components are modeled using Fourier series.\r\n",
        "* One can either use fb provided list or incorporate their own holidays into model.\r\n",
        "\r\n",
        "\r\n",
        "Prophet was originally optimized with the business forecast tasks encountered at Facebook in mind, which typically have any of the following characteristics:\r\n",
        "\r\n",
        "* Hourly, daily, or weekly observations with at least a few months (preferably a year) of history\r\n",
        "* Strong multiple “human-scale” seasonalities: day of week and time of year\r\n",
        "* Important holidays that occur at irregular intervals that are known in advance\r\n",
        "* A reasonable number of missing observations or large outliers\r\n",
        "* Historical trend changes, for instance due to product launches or logging changes\r\n",
        "* Trends that are non-linear growth curves, where a trend hits a natural limit or saturates\r\n",
        "\r\n",
        "\r\n",
        "Technical details behind prophet: built around a generalized additive model (GAM)"
      ]
    },
    {
      "cell_type": "code",
      "metadata": {
        "id": "87NDcvFRlXzH"
      },
      "source": [
        "df = train_df"
      ],
      "execution_count": 87,
      "outputs": []
    },
    {
      "cell_type": "code",
      "metadata": {
        "colab": {
          "base_uri": "https://localhost:8080/",
          "height": 198
        },
        "id": "hfhgT-2JlbHE",
        "outputId": "c6669c9b-7324-48c7-bd8e-56a74fcc4715"
      },
      "source": [
        "#change datetype\r\n",
        "df[\"Metric\"] = pd.to_datetime(df[\"Metric\"])\r\n",
        "df.head()"
      ],
      "execution_count": 88,
      "outputs": [
        {
          "output_type": "execute_result",
          "data": {
            "text/html": [
              "<div>\n",
              "<style scoped>\n",
              "    .dataframe tbody tr th:only-of-type {\n",
              "        vertical-align: middle;\n",
              "    }\n",
              "\n",
              "    .dataframe tbody tr th {\n",
              "        vertical-align: top;\n",
              "    }\n",
              "\n",
              "    .dataframe thead th {\n",
              "        text-align: right;\n",
              "    }\n",
              "</style>\n",
              "<table border=\"1\" class=\"dataframe\">\n",
              "  <thead>\n",
              "    <tr style=\"text-align: right;\">\n",
              "      <th></th>\n",
              "      <th>Metric</th>\n",
              "      <th>Median Household Income</th>\n",
              "      <th>Diff</th>\n",
              "      <th>Diff2</th>\n",
              "    </tr>\n",
              "  </thead>\n",
              "  <tbody>\n",
              "    <tr>\n",
              "      <th>0</th>\n",
              "      <td>2004-01-28</td>\n",
              "      <td>43996.755165</td>\n",
              "      <td>NaN</td>\n",
              "      <td>NaN</td>\n",
              "    </tr>\n",
              "    <tr>\n",
              "      <th>1</th>\n",
              "      <td>2004-02-28</td>\n",
              "      <td>44072.814835</td>\n",
              "      <td>76.059670</td>\n",
              "      <td>NaN</td>\n",
              "    </tr>\n",
              "    <tr>\n",
              "      <th>2</th>\n",
              "      <td>2004-03-28</td>\n",
              "      <td>44154.120000</td>\n",
              "      <td>81.305165</td>\n",
              "      <td>5.245494</td>\n",
              "    </tr>\n",
              "    <tr>\n",
              "      <th>3</th>\n",
              "      <td>2004-04-28</td>\n",
              "      <td>44250.420000</td>\n",
              "      <td>96.300000</td>\n",
              "      <td>14.994835</td>\n",
              "    </tr>\n",
              "    <tr>\n",
              "      <th>4</th>\n",
              "      <td>2004-05-28</td>\n",
              "      <td>44349.930000</td>\n",
              "      <td>99.510000</td>\n",
              "      <td>3.210000</td>\n",
              "    </tr>\n",
              "  </tbody>\n",
              "</table>\n",
              "</div>"
            ],
            "text/plain": [
              "      Metric  Median Household Income       Diff      Diff2\n",
              "0 2004-01-28             43996.755165        NaN        NaN\n",
              "1 2004-02-28             44072.814835  76.059670        NaN\n",
              "2 2004-03-28             44154.120000  81.305165   5.245494\n",
              "3 2004-04-28             44250.420000  96.300000  14.994835\n",
              "4 2004-05-28             44349.930000  99.510000   3.210000"
            ]
          },
          "metadata": {
            "tags": []
          },
          "execution_count": 88
        }
      ]
    },
    {
      "cell_type": "code",
      "metadata": {
        "colab": {
          "base_uri": "https://localhost:8080/",
          "height": 407
        },
        "id": "9OhiFUuvlcsx",
        "outputId": "a4126f83-aeef-484b-c8de-a51c286d8c6c"
      },
      "source": [
        "#prophet takes input column as ds and y\r\n",
        "df = df.rename(columns={\"Metric\":\"ds\", \"Median Household Income\":\"y\"})\r\n",
        "df = df[['ds','y']]\r\n",
        "df"
      ],
      "execution_count": 89,
      "outputs": [
        {
          "output_type": "execute_result",
          "data": {
            "text/html": [
              "<div>\n",
              "<style scoped>\n",
              "    .dataframe tbody tr th:only-of-type {\n",
              "        vertical-align: middle;\n",
              "    }\n",
              "\n",
              "    .dataframe tbody tr th {\n",
              "        vertical-align: top;\n",
              "    }\n",
              "\n",
              "    .dataframe thead th {\n",
              "        text-align: right;\n",
              "    }\n",
              "</style>\n",
              "<table border=\"1\" class=\"dataframe\">\n",
              "  <thead>\n",
              "    <tr style=\"text-align: right;\">\n",
              "      <th></th>\n",
              "      <th>ds</th>\n",
              "      <th>y</th>\n",
              "    </tr>\n",
              "  </thead>\n",
              "  <tbody>\n",
              "    <tr>\n",
              "      <th>0</th>\n",
              "      <td>2004-01-28</td>\n",
              "      <td>43996.755165</td>\n",
              "    </tr>\n",
              "    <tr>\n",
              "      <th>1</th>\n",
              "      <td>2004-02-28</td>\n",
              "      <td>44072.814835</td>\n",
              "    </tr>\n",
              "    <tr>\n",
              "      <th>2</th>\n",
              "      <td>2004-03-28</td>\n",
              "      <td>44154.120000</td>\n",
              "    </tr>\n",
              "    <tr>\n",
              "      <th>3</th>\n",
              "      <td>2004-04-28</td>\n",
              "      <td>44250.420000</td>\n",
              "    </tr>\n",
              "    <tr>\n",
              "      <th>4</th>\n",
              "      <td>2004-05-28</td>\n",
              "      <td>44349.930000</td>\n",
              "    </tr>\n",
              "    <tr>\n",
              "      <th>...</th>\n",
              "      <td>...</td>\n",
              "      <td>...</td>\n",
              "    </tr>\n",
              "    <tr>\n",
              "      <th>175</th>\n",
              "      <td>2018-08-31</td>\n",
              "      <td>61761.472609</td>\n",
              "    </tr>\n",
              "    <tr>\n",
              "      <th>176</th>\n",
              "      <td>2018-09-30</td>\n",
              "      <td>61927.190000</td>\n",
              "    </tr>\n",
              "    <tr>\n",
              "      <th>177</th>\n",
              "      <td>2018-10-31</td>\n",
              "      <td>62084.740761</td>\n",
              "    </tr>\n",
              "    <tr>\n",
              "      <th>178</th>\n",
              "      <td>2018-11-30</td>\n",
              "      <td>62237.209239</td>\n",
              "    </tr>\n",
              "    <tr>\n",
              "      <th>179</th>\n",
              "      <td>2018-12-31</td>\n",
              "      <td>62394.760000</td>\n",
              "    </tr>\n",
              "  </tbody>\n",
              "</table>\n",
              "<p>180 rows × 2 columns</p>\n",
              "</div>"
            ],
            "text/plain": [
              "            ds             y\n",
              "0   2004-01-28  43996.755165\n",
              "1   2004-02-28  44072.814835\n",
              "2   2004-03-28  44154.120000\n",
              "3   2004-04-28  44250.420000\n",
              "4   2004-05-28  44349.930000\n",
              "..         ...           ...\n",
              "175 2018-08-31  61761.472609\n",
              "176 2018-09-30  61927.190000\n",
              "177 2018-10-31  62084.740761\n",
              "178 2018-11-30  62237.209239\n",
              "179 2018-12-31  62394.760000\n",
              "\n",
              "[180 rows x 2 columns]"
            ]
          },
          "metadata": {
            "tags": []
          },
          "execution_count": 89
        }
      ]
    },
    {
      "cell_type": "code",
      "metadata": {
        "id": "Ft9JRYs_leMM"
      },
      "source": [
        "#model initalisation\r\n",
        "from fbprophet import Prophet\r\n",
        "model = Prophet()"
      ],
      "execution_count": 90,
      "outputs": []
    },
    {
      "cell_type": "code",
      "metadata": {
        "colab": {
          "base_uri": "https://localhost:8080/",
          "height": 198
        },
        "id": "olVsyS0Wlfcx",
        "outputId": "49f89317-6000-4e49-91bf-e48be035bddb"
      },
      "source": [
        "#train data till Jun 2017\r\n",
        "#valdiation data from july 2017\r\n",
        "train_data = df[:162]\r\n",
        "valdiation_data = df[162:]\r\n",
        "\r\n",
        "train_data.tail()"
      ],
      "execution_count": 91,
      "outputs": [
        {
          "output_type": "execute_result",
          "data": {
            "text/html": [
              "<div>\n",
              "<style scoped>\n",
              "    .dataframe tbody tr th:only-of-type {\n",
              "        vertical-align: middle;\n",
              "    }\n",
              "\n",
              "    .dataframe tbody tr th {\n",
              "        vertical-align: top;\n",
              "    }\n",
              "\n",
              "    .dataframe thead th {\n",
              "        text-align: right;\n",
              "    }\n",
              "</style>\n",
              "<table border=\"1\" class=\"dataframe\">\n",
              "  <thead>\n",
              "    <tr style=\"text-align: right;\">\n",
              "      <th></th>\n",
              "      <th>ds</th>\n",
              "      <th>y</th>\n",
              "    </tr>\n",
              "  </thead>\n",
              "  <tbody>\n",
              "    <tr>\n",
              "      <th>157</th>\n",
              "      <td>2017-02-28</td>\n",
              "      <td>58547.034889</td>\n",
              "    </tr>\n",
              "    <tr>\n",
              "      <th>158</th>\n",
              "      <td>2017-03-31</td>\n",
              "      <td>58714.180000</td>\n",
              "    </tr>\n",
              "    <tr>\n",
              "      <th>159</th>\n",
              "      <td>2017-04-30</td>\n",
              "      <td>58865.238242</td>\n",
              "    </tr>\n",
              "    <tr>\n",
              "      <th>160</th>\n",
              "      <td>2017-05-31</td>\n",
              "      <td>59021.331758</td>\n",
              "    </tr>\n",
              "    <tr>\n",
              "      <th>161</th>\n",
              "      <td>2017-06-30</td>\n",
              "      <td>59172.390000</td>\n",
              "    </tr>\n",
              "  </tbody>\n",
              "</table>\n",
              "</div>"
            ],
            "text/plain": [
              "            ds             y\n",
              "157 2017-02-28  58547.034889\n",
              "158 2017-03-31  58714.180000\n",
              "159 2017-04-30  58865.238242\n",
              "160 2017-05-31  59021.331758\n",
              "161 2017-06-30  59172.390000"
            ]
          },
          "metadata": {
            "tags": []
          },
          "execution_count": 91
        }
      ]
    },
    {
      "cell_type": "code",
      "metadata": {
        "colab": {
          "base_uri": "https://localhost:8080/"
        },
        "id": "q8HQ6oJjlkuq",
        "outputId": "4590e6c5-cdb2-440d-bc63-541781343ce5"
      },
      "source": [
        "# let's fit our model\r\n",
        "model.fit(train_data)"
      ],
      "execution_count": 92,
      "outputs": [
        {
          "output_type": "stream",
          "text": [
            "INFO:fbprophet:Disabling weekly seasonality. Run prophet with weekly_seasonality=True to override this.\n",
            "INFO:fbprophet:Disabling daily seasonality. Run prophet with daily_seasonality=True to override this.\n"
          ],
          "name": "stderr"
        },
        {
          "output_type": "execute_result",
          "data": {
            "text/plain": [
              "<fbprophet.forecaster.Prophet at 0x7fa7f2a770d0>"
            ]
          },
          "metadata": {
            "tags": []
          },
          "execution_count": 92
        }
      ]
    },
    {
      "cell_type": "code",
      "metadata": {
        "colab": {
          "base_uri": "https://localhost:8080/",
          "height": 407
        },
        "id": "kGxFWMZIlnVr",
        "outputId": "1098d4c8-ca0a-4eaf-d462-e624850c3184"
      },
      "source": [
        "# creating placeholder for validation data\r\n",
        "future_df = model.make_future_dataframe(periods=18, freq=\"M\")\r\n",
        "future_df"
      ],
      "execution_count": 93,
      "outputs": [
        {
          "output_type": "execute_result",
          "data": {
            "text/html": [
              "<div>\n",
              "<style scoped>\n",
              "    .dataframe tbody tr th:only-of-type {\n",
              "        vertical-align: middle;\n",
              "    }\n",
              "\n",
              "    .dataframe tbody tr th {\n",
              "        vertical-align: top;\n",
              "    }\n",
              "\n",
              "    .dataframe thead th {\n",
              "        text-align: right;\n",
              "    }\n",
              "</style>\n",
              "<table border=\"1\" class=\"dataframe\">\n",
              "  <thead>\n",
              "    <tr style=\"text-align: right;\">\n",
              "      <th></th>\n",
              "      <th>ds</th>\n",
              "    </tr>\n",
              "  </thead>\n",
              "  <tbody>\n",
              "    <tr>\n",
              "      <th>0</th>\n",
              "      <td>2004-01-28</td>\n",
              "    </tr>\n",
              "    <tr>\n",
              "      <th>1</th>\n",
              "      <td>2004-02-28</td>\n",
              "    </tr>\n",
              "    <tr>\n",
              "      <th>2</th>\n",
              "      <td>2004-03-28</td>\n",
              "    </tr>\n",
              "    <tr>\n",
              "      <th>3</th>\n",
              "      <td>2004-04-28</td>\n",
              "    </tr>\n",
              "    <tr>\n",
              "      <th>4</th>\n",
              "      <td>2004-05-28</td>\n",
              "    </tr>\n",
              "    <tr>\n",
              "      <th>...</th>\n",
              "      <td>...</td>\n",
              "    </tr>\n",
              "    <tr>\n",
              "      <th>175</th>\n",
              "      <td>2018-08-31</td>\n",
              "    </tr>\n",
              "    <tr>\n",
              "      <th>176</th>\n",
              "      <td>2018-09-30</td>\n",
              "    </tr>\n",
              "    <tr>\n",
              "      <th>177</th>\n",
              "      <td>2018-10-31</td>\n",
              "    </tr>\n",
              "    <tr>\n",
              "      <th>178</th>\n",
              "      <td>2018-11-30</td>\n",
              "    </tr>\n",
              "    <tr>\n",
              "      <th>179</th>\n",
              "      <td>2018-12-31</td>\n",
              "    </tr>\n",
              "  </tbody>\n",
              "</table>\n",
              "<p>180 rows × 1 columns</p>\n",
              "</div>"
            ],
            "text/plain": [
              "            ds\n",
              "0   2004-01-28\n",
              "1   2004-02-28\n",
              "2   2004-03-28\n",
              "3   2004-04-28\n",
              "4   2004-05-28\n",
              "..         ...\n",
              "175 2018-08-31\n",
              "176 2018-09-30\n",
              "177 2018-10-31\n",
              "178 2018-11-30\n",
              "179 2018-12-31\n",
              "\n",
              "[180 rows x 1 columns]"
            ]
          },
          "metadata": {
            "tags": []
          },
          "execution_count": 93
        }
      ]
    },
    {
      "cell_type": "code",
      "metadata": {
        "colab": {
          "base_uri": "https://localhost:8080/",
          "height": 588
        },
        "id": "fGinp9-wJrsD",
        "outputId": "3861f0cd-2f84-4143-b32d-a2b5e7c96640"
      },
      "source": [
        "valdiation_data"
      ],
      "execution_count": 94,
      "outputs": [
        {
          "output_type": "execute_result",
          "data": {
            "text/html": [
              "<div>\n",
              "<style scoped>\n",
              "    .dataframe tbody tr th:only-of-type {\n",
              "        vertical-align: middle;\n",
              "    }\n",
              "\n",
              "    .dataframe tbody tr th {\n",
              "        vertical-align: top;\n",
              "    }\n",
              "\n",
              "    .dataframe thead th {\n",
              "        text-align: right;\n",
              "    }\n",
              "</style>\n",
              "<table border=\"1\" class=\"dataframe\">\n",
              "  <thead>\n",
              "    <tr style=\"text-align: right;\">\n",
              "      <th></th>\n",
              "      <th>ds</th>\n",
              "      <th>y</th>\n",
              "    </tr>\n",
              "  </thead>\n",
              "  <tbody>\n",
              "    <tr>\n",
              "      <th>162</th>\n",
              "      <td>2017-07-31</td>\n",
              "      <td>59351.930543</td>\n",
              "    </tr>\n",
              "    <tr>\n",
              "      <th>163</th>\n",
              "      <td>2017-08-31</td>\n",
              "      <td>59531.471087</td>\n",
              "    </tr>\n",
              "    <tr>\n",
              "      <th>164</th>\n",
              "      <td>2017-09-30</td>\n",
              "      <td>59705.220000</td>\n",
              "    </tr>\n",
              "    <tr>\n",
              "      <th>165</th>\n",
              "      <td>2017-10-31</td>\n",
              "      <td>59930.687717</td>\n",
              "    </tr>\n",
              "    <tr>\n",
              "      <th>166</th>\n",
              "      <td>2017-11-30</td>\n",
              "      <td>60148.882283</td>\n",
              "    </tr>\n",
              "    <tr>\n",
              "      <th>167</th>\n",
              "      <td>2017-12-31</td>\n",
              "      <td>60374.350000</td>\n",
              "    </tr>\n",
              "    <tr>\n",
              "      <th>168</th>\n",
              "      <td>2018-01-31</td>\n",
              "      <td>60587.712667</td>\n",
              "    </tr>\n",
              "    <tr>\n",
              "      <th>169</th>\n",
              "      <td>2018-02-28</td>\n",
              "      <td>60780.427333</td>\n",
              "    </tr>\n",
              "    <tr>\n",
              "      <th>170</th>\n",
              "      <td>2018-03-31</td>\n",
              "      <td>60993.790000</td>\n",
              "    </tr>\n",
              "    <tr>\n",
              "      <th>171</th>\n",
              "      <td>2018-04-30</td>\n",
              "      <td>61133.965824</td>\n",
              "    </tr>\n",
              "    <tr>\n",
              "      <th>172</th>\n",
              "      <td>2018-05-31</td>\n",
              "      <td>61278.814176</td>\n",
              "    </tr>\n",
              "    <tr>\n",
              "      <th>173</th>\n",
              "      <td>2018-06-30</td>\n",
              "      <td>61418.990000</td>\n",
              "    </tr>\n",
              "    <tr>\n",
              "      <th>174</th>\n",
              "      <td>2018-07-31</td>\n",
              "      <td>61590.231304</td>\n",
              "    </tr>\n",
              "    <tr>\n",
              "      <th>175</th>\n",
              "      <td>2018-08-31</td>\n",
              "      <td>61761.472609</td>\n",
              "    </tr>\n",
              "    <tr>\n",
              "      <th>176</th>\n",
              "      <td>2018-09-30</td>\n",
              "      <td>61927.190000</td>\n",
              "    </tr>\n",
              "    <tr>\n",
              "      <th>177</th>\n",
              "      <td>2018-10-31</td>\n",
              "      <td>62084.740761</td>\n",
              "    </tr>\n",
              "    <tr>\n",
              "      <th>178</th>\n",
              "      <td>2018-11-30</td>\n",
              "      <td>62237.209239</td>\n",
              "    </tr>\n",
              "    <tr>\n",
              "      <th>179</th>\n",
              "      <td>2018-12-31</td>\n",
              "      <td>62394.760000</td>\n",
              "    </tr>\n",
              "  </tbody>\n",
              "</table>\n",
              "</div>"
            ],
            "text/plain": [
              "            ds             y\n",
              "162 2017-07-31  59351.930543\n",
              "163 2017-08-31  59531.471087\n",
              "164 2017-09-30  59705.220000\n",
              "165 2017-10-31  59930.687717\n",
              "166 2017-11-30  60148.882283\n",
              "167 2017-12-31  60374.350000\n",
              "168 2018-01-31  60587.712667\n",
              "169 2018-02-28  60780.427333\n",
              "170 2018-03-31  60993.790000\n",
              "171 2018-04-30  61133.965824\n",
              "172 2018-05-31  61278.814176\n",
              "173 2018-06-30  61418.990000\n",
              "174 2018-07-31  61590.231304\n",
              "175 2018-08-31  61761.472609\n",
              "176 2018-09-30  61927.190000\n",
              "177 2018-10-31  62084.740761\n",
              "178 2018-11-30  62237.209239\n",
              "179 2018-12-31  62394.760000"
            ]
          },
          "metadata": {
            "tags": []
          },
          "execution_count": 94
        }
      ]
    },
    {
      "cell_type": "code",
      "metadata": {
        "colab": {
          "base_uri": "https://localhost:8080/",
          "height": 600
        },
        "id": "o5Yck5NhmXHz",
        "outputId": "c90ee100-2e7c-4259-eeea-27a427b4975e"
      },
      "source": [
        "#Let's forecast\r\n",
        "forecast_df = model.predict(future_df)\r\n",
        "forecast_df"
      ],
      "execution_count": 95,
      "outputs": [
        {
          "output_type": "execute_result",
          "data": {
            "text/html": [
              "<div>\n",
              "<style scoped>\n",
              "    .dataframe tbody tr th:only-of-type {\n",
              "        vertical-align: middle;\n",
              "    }\n",
              "\n",
              "    .dataframe tbody tr th {\n",
              "        vertical-align: top;\n",
              "    }\n",
              "\n",
              "    .dataframe thead th {\n",
              "        text-align: right;\n",
              "    }\n",
              "</style>\n",
              "<table border=\"1\" class=\"dataframe\">\n",
              "  <thead>\n",
              "    <tr style=\"text-align: right;\">\n",
              "      <th></th>\n",
              "      <th>ds</th>\n",
              "      <th>trend</th>\n",
              "      <th>yhat_lower</th>\n",
              "      <th>yhat_upper</th>\n",
              "      <th>trend_lower</th>\n",
              "      <th>trend_upper</th>\n",
              "      <th>additive_terms</th>\n",
              "      <th>additive_terms_lower</th>\n",
              "      <th>additive_terms_upper</th>\n",
              "      <th>yearly</th>\n",
              "      <th>yearly_lower</th>\n",
              "      <th>yearly_upper</th>\n",
              "      <th>multiplicative_terms</th>\n",
              "      <th>multiplicative_terms_lower</th>\n",
              "      <th>multiplicative_terms_upper</th>\n",
              "      <th>yhat</th>\n",
              "    </tr>\n",
              "  </thead>\n",
              "  <tbody>\n",
              "    <tr>\n",
              "      <th>0</th>\n",
              "      <td>2004-01-28</td>\n",
              "      <td>43974.459177</td>\n",
              "      <td>43888.002417</td>\n",
              "      <td>44049.421151</td>\n",
              "      <td>43974.459177</td>\n",
              "      <td>43974.459177</td>\n",
              "      <td>-8.227155</td>\n",
              "      <td>-8.227155</td>\n",
              "      <td>-8.227155</td>\n",
              "      <td>-8.227155</td>\n",
              "      <td>-8.227155</td>\n",
              "      <td>-8.227155</td>\n",
              "      <td>0.0</td>\n",
              "      <td>0.0</td>\n",
              "      <td>0.0</td>\n",
              "      <td>43966.232022</td>\n",
              "    </tr>\n",
              "    <tr>\n",
              "      <th>1</th>\n",
              "      <td>2004-02-28</td>\n",
              "      <td>44072.397337</td>\n",
              "      <td>43987.587912</td>\n",
              "      <td>44147.225489</td>\n",
              "      <td>44072.397337</td>\n",
              "      <td>44072.397337</td>\n",
              "      <td>-10.839719</td>\n",
              "      <td>-10.839719</td>\n",
              "      <td>-10.839719</td>\n",
              "      <td>-10.839719</td>\n",
              "      <td>-10.839719</td>\n",
              "      <td>-10.839719</td>\n",
              "      <td>0.0</td>\n",
              "      <td>0.0</td>\n",
              "      <td>0.0</td>\n",
              "      <td>44061.557618</td>\n",
              "    </tr>\n",
              "    <tr>\n",
              "      <th>2</th>\n",
              "      <td>2004-03-28</td>\n",
              "      <td>44164.016907</td>\n",
              "      <td>44049.447375</td>\n",
              "      <td>44212.254213</td>\n",
              "      <td>44164.016907</td>\n",
              "      <td>44164.016907</td>\n",
              "      <td>-26.523005</td>\n",
              "      <td>-26.523005</td>\n",
              "      <td>-26.523005</td>\n",
              "      <td>-26.523005</td>\n",
              "      <td>-26.523005</td>\n",
              "      <td>-26.523005</td>\n",
              "      <td>0.0</td>\n",
              "      <td>0.0</td>\n",
              "      <td>0.0</td>\n",
              "      <td>44137.493902</td>\n",
              "    </tr>\n",
              "    <tr>\n",
              "      <th>3</th>\n",
              "      <td>2004-04-28</td>\n",
              "      <td>44261.955067</td>\n",
              "      <td>44164.135555</td>\n",
              "      <td>44332.362887</td>\n",
              "      <td>44261.955067</td>\n",
              "      <td>44261.955067</td>\n",
              "      <td>-13.440426</td>\n",
              "      <td>-13.440426</td>\n",
              "      <td>-13.440426</td>\n",
              "      <td>-13.440426</td>\n",
              "      <td>-13.440426</td>\n",
              "      <td>-13.440426</td>\n",
              "      <td>0.0</td>\n",
              "      <td>0.0</td>\n",
              "      <td>0.0</td>\n",
              "      <td>44248.514641</td>\n",
              "    </tr>\n",
              "    <tr>\n",
              "      <th>4</th>\n",
              "      <td>2004-05-28</td>\n",
              "      <td>44356.733932</td>\n",
              "      <td>44268.821408</td>\n",
              "      <td>44429.347526</td>\n",
              "      <td>44356.733932</td>\n",
              "      <td>44356.733932</td>\n",
              "      <td>-0.017248</td>\n",
              "      <td>-0.017248</td>\n",
              "      <td>-0.017248</td>\n",
              "      <td>-0.017248</td>\n",
              "      <td>-0.017248</td>\n",
              "      <td>-0.017248</td>\n",
              "      <td>0.0</td>\n",
              "      <td>0.0</td>\n",
              "      <td>0.0</td>\n",
              "      <td>44356.716685</td>\n",
              "    </tr>\n",
              "    <tr>\n",
              "      <th>...</th>\n",
              "      <td>...</td>\n",
              "      <td>...</td>\n",
              "      <td>...</td>\n",
              "      <td>...</td>\n",
              "      <td>...</td>\n",
              "      <td>...</td>\n",
              "      <td>...</td>\n",
              "      <td>...</td>\n",
              "      <td>...</td>\n",
              "      <td>...</td>\n",
              "      <td>...</td>\n",
              "      <td>...</td>\n",
              "      <td>...</td>\n",
              "      <td>...</td>\n",
              "      <td>...</td>\n",
              "      <td>...</td>\n",
              "    </tr>\n",
              "    <tr>\n",
              "      <th>175</th>\n",
              "      <td>2018-08-31</td>\n",
              "      <td>61422.404313</td>\n",
              "      <td>60285.077760</td>\n",
              "      <td>62837.342163</td>\n",
              "      <td>60259.699942</td>\n",
              "      <td>62775.364359</td>\n",
              "      <td>16.758111</td>\n",
              "      <td>16.758111</td>\n",
              "      <td>16.758111</td>\n",
              "      <td>16.758111</td>\n",
              "      <td>16.758111</td>\n",
              "      <td>16.758111</td>\n",
              "      <td>0.0</td>\n",
              "      <td>0.0</td>\n",
              "      <td>0.0</td>\n",
              "      <td>61439.162424</td>\n",
              "    </tr>\n",
              "    <tr>\n",
              "      <th>176</th>\n",
              "      <td>2018-09-30</td>\n",
              "      <td>61576.030565</td>\n",
              "      <td>60229.429350</td>\n",
              "      <td>63057.198921</td>\n",
              "      <td>60261.887699</td>\n",
              "      <td>63090.269612</td>\n",
              "      <td>-35.677875</td>\n",
              "      <td>-35.677875</td>\n",
              "      <td>-35.677875</td>\n",
              "      <td>-35.677875</td>\n",
              "      <td>-35.677875</td>\n",
              "      <td>-35.677875</td>\n",
              "      <td>0.0</td>\n",
              "      <td>0.0</td>\n",
              "      <td>0.0</td>\n",
              "      <td>61540.352690</td>\n",
              "    </tr>\n",
              "    <tr>\n",
              "      <th>177</th>\n",
              "      <td>2018-10-31</td>\n",
              "      <td>61734.777692</td>\n",
              "      <td>60255.640137</td>\n",
              "      <td>63408.966461</td>\n",
              "      <td>60308.263361</td>\n",
              "      <td>63422.962053</td>\n",
              "      <td>-23.315583</td>\n",
              "      <td>-23.315583</td>\n",
              "      <td>-23.315583</td>\n",
              "      <td>-23.315583</td>\n",
              "      <td>-23.315583</td>\n",
              "      <td>-23.315583</td>\n",
              "      <td>0.0</td>\n",
              "      <td>0.0</td>\n",
              "      <td>0.0</td>\n",
              "      <td>61711.462109</td>\n",
              "    </tr>\n",
              "    <tr>\n",
              "      <th>178</th>\n",
              "      <td>2018-11-30</td>\n",
              "      <td>61888.403944</td>\n",
              "      <td>60213.179725</td>\n",
              "      <td>63748.133198</td>\n",
              "      <td>60241.080371</td>\n",
              "      <td>63743.485057</td>\n",
              "      <td>-7.491724</td>\n",
              "      <td>-7.491724</td>\n",
              "      <td>-7.491724</td>\n",
              "      <td>-7.491724</td>\n",
              "      <td>-7.491724</td>\n",
              "      <td>-7.491724</td>\n",
              "      <td>0.0</td>\n",
              "      <td>0.0</td>\n",
              "      <td>0.0</td>\n",
              "      <td>61880.912220</td>\n",
              "    </tr>\n",
              "    <tr>\n",
              "      <th>179</th>\n",
              "      <td>2018-12-31</td>\n",
              "      <td>62047.151071</td>\n",
              "      <td>60262.369212</td>\n",
              "      <td>64197.314275</td>\n",
              "      <td>60185.983475</td>\n",
              "      <td>64105.016296</td>\n",
              "      <td>70.382446</td>\n",
              "      <td>70.382446</td>\n",
              "      <td>70.382446</td>\n",
              "      <td>70.382446</td>\n",
              "      <td>70.382446</td>\n",
              "      <td>70.382446</td>\n",
              "      <td>0.0</td>\n",
              "      <td>0.0</td>\n",
              "      <td>0.0</td>\n",
              "      <td>62117.533517</td>\n",
              "    </tr>\n",
              "  </tbody>\n",
              "</table>\n",
              "<p>180 rows × 16 columns</p>\n",
              "</div>"
            ],
            "text/plain": [
              "            ds         trend  ...  multiplicative_terms_upper          yhat\n",
              "0   2004-01-28  43974.459177  ...                         0.0  43966.232022\n",
              "1   2004-02-28  44072.397337  ...                         0.0  44061.557618\n",
              "2   2004-03-28  44164.016907  ...                         0.0  44137.493902\n",
              "3   2004-04-28  44261.955067  ...                         0.0  44248.514641\n",
              "4   2004-05-28  44356.733932  ...                         0.0  44356.716685\n",
              "..         ...           ...  ...                         ...           ...\n",
              "175 2018-08-31  61422.404313  ...                         0.0  61439.162424\n",
              "176 2018-09-30  61576.030565  ...                         0.0  61540.352690\n",
              "177 2018-10-31  61734.777692  ...                         0.0  61711.462109\n",
              "178 2018-11-30  61888.403944  ...                         0.0  61880.912220\n",
              "179 2018-12-31  62047.151071  ...                         0.0  62117.533517\n",
              "\n",
              "[180 rows x 16 columns]"
            ]
          },
          "metadata": {
            "tags": []
          },
          "execution_count": 95
        }
      ]
    },
    {
      "cell_type": "code",
      "metadata": {
        "colab": {
          "base_uri": "https://localhost:8080/",
          "height": 441
        },
        "id": "te8IMs-wC-mx",
        "outputId": "9192674a-9645-42c7-acbd-4f48f7846b08"
      },
      "source": [
        "#plotting\r\n",
        "model.plot(forecast_df);"
      ],
      "execution_count": 96,
      "outputs": [
        {
          "output_type": "display_data",
          "data": {
            "image/png": "[encoded data removed]",
            "text/plain": [
              "<Figure size 720x432 with 1 Axes>"
            ]
          },
          "metadata": {
            "tags": []
          }
        }
      ]
    },
    {
      "cell_type": "code",
      "metadata": {
        "colab": {
          "base_uri": "https://localhost:8080/",
          "height": 441
        },
        "id": "KdhwtbSnDDiS",
        "outputId": "36b2b864-4691-400a-ef4a-beea25e355fd"
      },
      "source": [
        "#Components\r\n",
        "model.plot_components(forecast_df);"
      ],
      "execution_count": 97,
      "outputs": [
        {
          "output_type": "display_data",
          "data": {
            "image/png": "[encoded data removed]",
            "text/plain": [
              "<Figure size 648x432 with 2 Axes>"
            ]
          },
          "metadata": {
            "tags": []
          }
        }
      ]
    },
    {
      "cell_type": "markdown",
      "metadata": {
        "id": "jZePVn9F79Pe"
      },
      "source": [
        "## Evaluation for validation data"
      ]
    },
    {
      "cell_type": "code",
      "metadata": {
        "id": "8iGyjtNYDMmW",
        "colab": {
          "base_uri": "https://localhost:8080/"
        },
        "outputId": "27c2b0df-9d65-413d-bf74-ee391e1aa8af"
      },
      "source": [
        "#forecasting for validation dataset\r\n",
        "yhat_forecast = forecast_df[\"yhat\"][162:]\r\n",
        "yhat_forecast"
      ],
      "execution_count": 98,
      "outputs": [
        {
          "output_type": "execute_result",
          "data": {
            "text/plain": [
              "162    59442.342707\n",
              "163    59571.498578\n",
              "164    59669.706146\n",
              "165    59840.391934\n",
              "166    60008.274050\n",
              "167    60253.139855\n",
              "168    60372.076682\n",
              "169    60458.932679\n",
              "170    60627.261205\n",
              "171    60773.256651\n",
              "172    60946.181906\n",
              "173    61112.308574\n",
              "174    61308.662326\n",
              "175    61439.162424\n",
              "176    61540.352690\n",
              "177    61711.462109\n",
              "178    61880.912220\n",
              "179    62117.533517\n",
              "Name: yhat, dtype: float64"
            ]
          },
          "metadata": {
            "tags": []
          },
          "execution_count": 98
        }
      ]
    },
    {
      "cell_type": "code",
      "metadata": {
        "colab": {
          "base_uri": "https://localhost:8080/"
        },
        "id": "qXPPXpSpdwIq",
        "outputId": "87001f08-6dc0-4c77-9929-eb106e8ebee9"
      },
      "source": [
        "yactual = valdiation_data[\"y\"]\r\n",
        "yactual"
      ],
      "execution_count": 99,
      "outputs": [
        {
          "output_type": "execute_result",
          "data": {
            "text/plain": [
              "162    59351.930543\n",
              "163    59531.471087\n",
              "164    59705.220000\n",
              "165    59930.687717\n",
              "166    60148.882283\n",
              "167    60374.350000\n",
              "168    60587.712667\n",
              "169    60780.427333\n",
              "170    60993.790000\n",
              "171    61133.965824\n",
              "172    61278.814176\n",
              "173    61418.990000\n",
              "174    61590.231304\n",
              "175    61761.472609\n",
              "176    61927.190000\n",
              "177    62084.740761\n",
              "178    62237.209239\n",
              "179    62394.760000\n",
              "Name: y, dtype: float64"
            ]
          },
          "metadata": {
            "tags": []
          },
          "execution_count": 99
        }
      ]
    },
    {
      "cell_type": "code",
      "metadata": {
        "colab": {
          "base_uri": "https://localhost:8080/"
        },
        "id": "fxKpoCj3dKlq",
        "outputId": "fa855144-a8e3-414a-b687-8c93acd59e67"
      },
      "source": [
        "#RMSE for validation data\r\n",
        "from sklearn.metrics import mean_squared_error\r\n",
        "\r\n",
        "rmse_validation = mean_squared_error(yactual, yhat_forecast, squared=False)\r\n",
        "rmse_validation"
      ],
      "execution_count": 101,
      "outputs": [
        {
          "output_type": "execute_result",
          "data": {
            "text/plain": [
              "273.7203219821144"
            ]
          },
          "metadata": {
            "tags": []
          },
          "execution_count": 101
        }
      ]
    },
    {
      "cell_type": "code",
      "metadata": {
        "colab": {
          "base_uri": "https://localhost:8080/"
        },
        "id": "AXAM3nwWd7Kb",
        "outputId": "bb9c2a1e-7e78-41a3-bc72-c9ababd2328c"
      },
      "source": [
        "#R2 for validation data\r\n",
        "from sklearn.metrics import r2_score \r\n",
        "\r\n",
        "r2_validation = r2_score(yactual, yhat_forecast)\r\n",
        "r2_validation"
      ],
      "execution_count": 102,
      "outputs": [
        {
          "output_type": "execute_result",
          "data": {
            "text/plain": [
              "0.9141325162865233"
            ]
          },
          "metadata": {
            "tags": []
          },
          "execution_count": 102
        }
      ]
    },
    {
      "cell_type": "markdown",
      "metadata": {
        "id": "Bay1ZcS58Drv"
      },
      "source": [
        "## Hyperparameter Optimisation"
      ]
    },
    {
      "cell_type": "code",
      "metadata": {
        "id": "HmTIUM6JAjCH"
      },
      "source": [
        "#Finetuning hyperparameters\r\n",
        "from fbprophet import Prophet\r\n",
        "\r\n",
        "changepoint_prior_scale = 0.5\r\n",
        "\r\n",
        "tuned_model_2 = Prophet(changepoint_prior_scale=changepoint_prior_scale)"
      ],
      "execution_count": 103,
      "outputs": []
    },
    {
      "cell_type": "code",
      "metadata": {
        "colab": {
          "base_uri": "https://localhost:8080/"
        },
        "id": "-QzF-v4pAi-p",
        "outputId": "bd48a526-f380-4fc4-e3d1-2948ec0b35c7"
      },
      "source": [
        "tuned_model_2.fit(train_data)"
      ],
      "execution_count": 104,
      "outputs": [
        {
          "output_type": "stream",
          "text": [
            "INFO:fbprophet:Disabling weekly seasonality. Run prophet with weekly_seasonality=True to override this.\n",
            "INFO:fbprophet:Disabling daily seasonality. Run prophet with daily_seasonality=True to override this.\n"
          ],
          "name": "stderr"
        },
        {
          "output_type": "execute_result",
          "data": {
            "text/plain": [
              "<fbprophet.forecaster.Prophet at 0x7fa7f2dfec90>"
            ]
          },
          "metadata": {
            "tags": []
          },
          "execution_count": 104
        }
      ]
    },
    {
      "cell_type": "code",
      "metadata": {
        "colab": {
          "base_uri": "https://localhost:8080/"
        },
        "id": "hbNXg-Y5B6yV",
        "outputId": "642d4b44-2156-45de-d172-b0c5fe19f7e9"
      },
      "source": [
        "test_df.shape"
      ],
      "execution_count": 105,
      "outputs": [
        {
          "output_type": "execute_result",
          "data": {
            "text/plain": [
              "(48, 2)"
            ]
          },
          "metadata": {
            "tags": []
          },
          "execution_count": 105
        }
      ]
    },
    {
      "cell_type": "code",
      "metadata": {
        "colab": {
          "base_uri": "https://localhost:8080/",
          "height": 407
        },
        "id": "tujxFUCyAiwA",
        "outputId": "02865b58-e1a1-440c-ecc2-b8ccc88d939c"
      },
      "source": [
        "# creating placeholder for test data\r\n",
        "future_test_df = tuned_model_2.make_future_dataframe(periods=66,freq=\"M\")\r\n",
        "future_test_df"
      ],
      "execution_count": 106,
      "outputs": [
        {
          "output_type": "execute_result",
          "data": {
            "text/html": [
              "<div>\n",
              "<style scoped>\n",
              "    .dataframe tbody tr th:only-of-type {\n",
              "        vertical-align: middle;\n",
              "    }\n",
              "\n",
              "    .dataframe tbody tr th {\n",
              "        vertical-align: top;\n",
              "    }\n",
              "\n",
              "    .dataframe thead th {\n",
              "        text-align: right;\n",
              "    }\n",
              "</style>\n",
              "<table border=\"1\" class=\"dataframe\">\n",
              "  <thead>\n",
              "    <tr style=\"text-align: right;\">\n",
              "      <th></th>\n",
              "      <th>ds</th>\n",
              "    </tr>\n",
              "  </thead>\n",
              "  <tbody>\n",
              "    <tr>\n",
              "      <th>0</th>\n",
              "      <td>2004-01-28</td>\n",
              "    </tr>\n",
              "    <tr>\n",
              "      <th>1</th>\n",
              "      <td>2004-02-28</td>\n",
              "    </tr>\n",
              "    <tr>\n",
              "      <th>2</th>\n",
              "      <td>2004-03-28</td>\n",
              "    </tr>\n",
              "    <tr>\n",
              "      <th>3</th>\n",
              "      <td>2004-04-28</td>\n",
              "    </tr>\n",
              "    <tr>\n",
              "      <th>4</th>\n",
              "      <td>2004-05-28</td>\n",
              "    </tr>\n",
              "    <tr>\n",
              "      <th>...</th>\n",
              "      <td>...</td>\n",
              "    </tr>\n",
              "    <tr>\n",
              "      <th>223</th>\n",
              "      <td>2022-08-31</td>\n",
              "    </tr>\n",
              "    <tr>\n",
              "      <th>224</th>\n",
              "      <td>2022-09-30</td>\n",
              "    </tr>\n",
              "    <tr>\n",
              "      <th>225</th>\n",
              "      <td>2022-10-31</td>\n",
              "    </tr>\n",
              "    <tr>\n",
              "      <th>226</th>\n",
              "      <td>2022-11-30</td>\n",
              "    </tr>\n",
              "    <tr>\n",
              "      <th>227</th>\n",
              "      <td>2022-12-31</td>\n",
              "    </tr>\n",
              "  </tbody>\n",
              "</table>\n",
              "<p>228 rows × 1 columns</p>\n",
              "</div>"
            ],
            "text/plain": [
              "            ds\n",
              "0   2004-01-28\n",
              "1   2004-02-28\n",
              "2   2004-03-28\n",
              "3   2004-04-28\n",
              "4   2004-05-28\n",
              "..         ...\n",
              "223 2022-08-31\n",
              "224 2022-09-30\n",
              "225 2022-10-31\n",
              "226 2022-11-30\n",
              "227 2022-12-31\n",
              "\n",
              "[228 rows x 1 columns]"
            ]
          },
          "metadata": {
            "tags": []
          },
          "execution_count": 106
        }
      ]
    },
    {
      "cell_type": "code",
      "metadata": {
        "colab": {
          "base_uri": "https://localhost:8080/",
          "height": 600
        },
        "id": "V3cR2dLQAiqa",
        "outputId": "dbfd9d42-7d9d-4245-c48a-e09feb9bdf4c"
      },
      "source": [
        "#Forecast testdf\r\n",
        "forecast_test_df = tuned_model_2.predict(future_test_df)\r\n",
        "forecast_test_df"
      ],
      "execution_count": 107,
      "outputs": [
        {
          "output_type": "execute_result",
          "data": {
            "text/html": [
              "<div>\n",
              "<style scoped>\n",
              "    .dataframe tbody tr th:only-of-type {\n",
              "        vertical-align: middle;\n",
              "    }\n",
              "\n",
              "    .dataframe tbody tr th {\n",
              "        vertical-align: top;\n",
              "    }\n",
              "\n",
              "    .dataframe thead th {\n",
              "        text-align: right;\n",
              "    }\n",
              "</style>\n",
              "<table border=\"1\" class=\"dataframe\">\n",
              "  <thead>\n",
              "    <tr style=\"text-align: right;\">\n",
              "      <th></th>\n",
              "      <th>ds</th>\n",
              "      <th>trend</th>\n",
              "      <th>yhat_lower</th>\n",
              "      <th>yhat_upper</th>\n",
              "      <th>trend_lower</th>\n",
              "      <th>trend_upper</th>\n",
              "      <th>additive_terms</th>\n",
              "      <th>additive_terms_lower</th>\n",
              "      <th>additive_terms_upper</th>\n",
              "      <th>yearly</th>\n",
              "      <th>yearly_lower</th>\n",
              "      <th>yearly_upper</th>\n",
              "      <th>multiplicative_terms</th>\n",
              "      <th>multiplicative_terms_lower</th>\n",
              "      <th>multiplicative_terms_upper</th>\n",
              "      <th>yhat</th>\n",
              "    </tr>\n",
              "  </thead>\n",
              "  <tbody>\n",
              "    <tr>\n",
              "      <th>0</th>\n",
              "      <td>2004-01-28</td>\n",
              "      <td>44004.876929</td>\n",
              "      <td>43926.915085</td>\n",
              "      <td>44073.749124</td>\n",
              "      <td>44004.876929</td>\n",
              "      <td>44004.876929</td>\n",
              "      <td>-4.124674</td>\n",
              "      <td>-4.124674</td>\n",
              "      <td>-4.124674</td>\n",
              "      <td>-4.124674</td>\n",
              "      <td>-4.124674</td>\n",
              "      <td>-4.124674</td>\n",
              "      <td>0.0</td>\n",
              "      <td>0.0</td>\n",
              "      <td>0.0</td>\n",
              "      <td>44000.752255</td>\n",
              "    </tr>\n",
              "    <tr>\n",
              "      <th>1</th>\n",
              "      <td>2004-02-28</td>\n",
              "      <td>44089.084272</td>\n",
              "      <td>44008.368068</td>\n",
              "      <td>44154.147131</td>\n",
              "      <td>44089.084272</td>\n",
              "      <td>44089.084272</td>\n",
              "      <td>-7.383246</td>\n",
              "      <td>-7.383246</td>\n",
              "      <td>-7.383246</td>\n",
              "      <td>-7.383246</td>\n",
              "      <td>-7.383246</td>\n",
              "      <td>-7.383246</td>\n",
              "      <td>0.0</td>\n",
              "      <td>0.0</td>\n",
              "      <td>0.0</td>\n",
              "      <td>44081.701026</td>\n",
              "    </tr>\n",
              "    <tr>\n",
              "      <th>2</th>\n",
              "      <td>2004-03-28</td>\n",
              "      <td>44167.858883</td>\n",
              "      <td>44078.750220</td>\n",
              "      <td>44219.697189</td>\n",
              "      <td>44167.858883</td>\n",
              "      <td>44167.858883</td>\n",
              "      <td>-22.940810</td>\n",
              "      <td>-22.940810</td>\n",
              "      <td>-22.940810</td>\n",
              "      <td>-22.940810</td>\n",
              "      <td>-22.940810</td>\n",
              "      <td>-22.940810</td>\n",
              "      <td>0.0</td>\n",
              "      <td>0.0</td>\n",
              "      <td>0.0</td>\n",
              "      <td>44144.918074</td>\n",
              "    </tr>\n",
              "    <tr>\n",
              "      <th>3</th>\n",
              "      <td>2004-04-28</td>\n",
              "      <td>44252.066226</td>\n",
              "      <td>44163.021829</td>\n",
              "      <td>44311.810421</td>\n",
              "      <td>44252.066226</td>\n",
              "      <td>44252.066226</td>\n",
              "      <td>-10.798072</td>\n",
              "      <td>-10.798072</td>\n",
              "      <td>-10.798072</td>\n",
              "      <td>-10.798072</td>\n",
              "      <td>-10.798072</td>\n",
              "      <td>-10.798072</td>\n",
              "      <td>0.0</td>\n",
              "      <td>0.0</td>\n",
              "      <td>0.0</td>\n",
              "      <td>44241.268155</td>\n",
              "    </tr>\n",
              "    <tr>\n",
              "      <th>4</th>\n",
              "      <td>2004-05-28</td>\n",
              "      <td>44333.557204</td>\n",
              "      <td>44256.612759</td>\n",
              "      <td>44411.807324</td>\n",
              "      <td>44333.557204</td>\n",
              "      <td>44333.557204</td>\n",
              "      <td>-0.171499</td>\n",
              "      <td>-0.171499</td>\n",
              "      <td>-0.171499</td>\n",
              "      <td>-0.171499</td>\n",
              "      <td>-0.171499</td>\n",
              "      <td>-0.171499</td>\n",
              "      <td>0.0</td>\n",
              "      <td>0.0</td>\n",
              "      <td>0.0</td>\n",
              "      <td>44333.385705</td>\n",
              "    </tr>\n",
              "    <tr>\n",
              "      <th>...</th>\n",
              "      <td>...</td>\n",
              "      <td>...</td>\n",
              "      <td>...</td>\n",
              "      <td>...</td>\n",
              "      <td>...</td>\n",
              "      <td>...</td>\n",
              "      <td>...</td>\n",
              "      <td>...</td>\n",
              "      <td>...</td>\n",
              "      <td>...</td>\n",
              "      <td>...</td>\n",
              "      <td>...</td>\n",
              "      <td>...</td>\n",
              "      <td>...</td>\n",
              "      <td>...</td>\n",
              "      <td>...</td>\n",
              "    </tr>\n",
              "    <tr>\n",
              "      <th>223</th>\n",
              "      <td>2022-08-31</td>\n",
              "      <td>68863.635709</td>\n",
              "      <td>50673.018132</td>\n",
              "      <td>85307.131340</td>\n",
              "      <td>50653.718140</td>\n",
              "      <td>85280.951192</td>\n",
              "      <td>11.116172</td>\n",
              "      <td>11.116172</td>\n",
              "      <td>11.116172</td>\n",
              "      <td>11.116172</td>\n",
              "      <td>11.116172</td>\n",
              "      <td>11.116172</td>\n",
              "      <td>0.0</td>\n",
              "      <td>0.0</td>\n",
              "      <td>0.0</td>\n",
              "      <td>68874.751881</td>\n",
              "    </tr>\n",
              "    <tr>\n",
              "      <th>224</th>\n",
              "      <td>2022-09-30</td>\n",
              "      <td>69016.724429</td>\n",
              "      <td>50314.446182</td>\n",
              "      <td>85884.679600</td>\n",
              "      <td>50342.451802</td>\n",
              "      <td>85908.938480</td>\n",
              "      <td>-41.621180</td>\n",
              "      <td>-41.621180</td>\n",
              "      <td>-41.621180</td>\n",
              "      <td>-41.621180</td>\n",
              "      <td>-41.621180</td>\n",
              "      <td>-41.621180</td>\n",
              "      <td>0.0</td>\n",
              "      <td>0.0</td>\n",
              "      <td>0.0</td>\n",
              "      <td>68975.103249</td>\n",
              "    </tr>\n",
              "    <tr>\n",
              "      <th>225</th>\n",
              "      <td>2022-10-31</td>\n",
              "      <td>69174.916107</td>\n",
              "      <td>50064.717947</td>\n",
              "      <td>86624.384663</td>\n",
              "      <td>50128.078571</td>\n",
              "      <td>86595.933317</td>\n",
              "      <td>-23.779565</td>\n",
              "      <td>-23.779565</td>\n",
              "      <td>-23.779565</td>\n",
              "      <td>-23.779565</td>\n",
              "      <td>-23.779565</td>\n",
              "      <td>-23.779565</td>\n",
              "      <td>0.0</td>\n",
              "      <td>0.0</td>\n",
              "      <td>0.0</td>\n",
              "      <td>69151.136542</td>\n",
              "    </tr>\n",
              "    <tr>\n",
              "      <th>226</th>\n",
              "      <td>2022-11-30</td>\n",
              "      <td>69328.004828</td>\n",
              "      <td>49926.444788</td>\n",
              "      <td>87248.207767</td>\n",
              "      <td>49892.700310</td>\n",
              "      <td>87235.572046</td>\n",
              "      <td>-3.373880</td>\n",
              "      <td>-3.373880</td>\n",
              "      <td>-3.373880</td>\n",
              "      <td>-3.373880</td>\n",
              "      <td>-3.373880</td>\n",
              "      <td>-3.373880</td>\n",
              "      <td>0.0</td>\n",
              "      <td>0.0</td>\n",
              "      <td>0.0</td>\n",
              "      <td>69324.630948</td>\n",
              "    </tr>\n",
              "    <tr>\n",
              "      <th>227</th>\n",
              "      <td>2022-12-31</td>\n",
              "      <td>69486.196506</td>\n",
              "      <td>49598.928604</td>\n",
              "      <td>87923.706272</td>\n",
              "      <td>49559.507657</td>\n",
              "      <td>87903.995586</td>\n",
              "      <td>72.581482</td>\n",
              "      <td>72.581482</td>\n",
              "      <td>72.581482</td>\n",
              "      <td>72.581482</td>\n",
              "      <td>72.581482</td>\n",
              "      <td>72.581482</td>\n",
              "      <td>0.0</td>\n",
              "      <td>0.0</td>\n",
              "      <td>0.0</td>\n",
              "      <td>69558.777988</td>\n",
              "    </tr>\n",
              "  </tbody>\n",
              "</table>\n",
              "<p>228 rows × 16 columns</p>\n",
              "</div>"
            ],
            "text/plain": [
              "            ds         trend  ...  multiplicative_terms_upper          yhat\n",
              "0   2004-01-28  44004.876929  ...                         0.0  44000.752255\n",
              "1   2004-02-28  44089.084272  ...                         0.0  44081.701026\n",
              "2   2004-03-28  44167.858883  ...                         0.0  44144.918074\n",
              "3   2004-04-28  44252.066226  ...                         0.0  44241.268155\n",
              "4   2004-05-28  44333.557204  ...                         0.0  44333.385705\n",
              "..         ...           ...  ...                         ...           ...\n",
              "223 2022-08-31  68863.635709  ...                         0.0  68874.751881\n",
              "224 2022-09-30  69016.724429  ...                         0.0  68975.103249\n",
              "225 2022-10-31  69174.916107  ...                         0.0  69151.136542\n",
              "226 2022-11-30  69328.004828  ...                         0.0  69324.630948\n",
              "227 2022-12-31  69486.196506  ...                         0.0  69558.777988\n",
              "\n",
              "[228 rows x 16 columns]"
            ]
          },
          "metadata": {
            "tags": []
          },
          "execution_count": 107
        }
      ]
    },
    {
      "cell_type": "code",
      "metadata": {
        "colab": {
          "base_uri": "https://localhost:8080/",
          "height": 441
        },
        "id": "GRirgy7TAikW",
        "outputId": "24865abe-6658-4cff-e872-3ed9b8cd05ce"
      },
      "source": [
        "tuned_model_2.plot(forecast_test_df);"
      ],
      "execution_count": 108,
      "outputs": [
        {
          "output_type": "display_data",
          "data": {
            "image/png": "[encoded data removed]",
            "text/plain": [
              "<Figure size 720x432 with 1 Axes>"
            ]
          },
          "metadata": {
            "tags": []
          }
        }
      ]
    },
    {
      "cell_type": "code",
      "metadata": {
        "colab": {
          "base_uri": "https://localhost:8080/"
        },
        "id": "K5KowncsAidE",
        "outputId": "4530cbdb-ac26-4d77-d102-83fa5e231563"
      },
      "source": [
        "#subsetting df from jan2019 to dec2022\r\n",
        "yhat_test = forecast_test_df['yhat'][180:]\r\n",
        "yhat_test"
      ],
      "execution_count": 109,
      "outputs": [
        {
          "output_type": "execute_result",
          "data": {
            "text/plain": [
              "180    62224.467819\n",
              "181    62319.367125\n",
              "182    62479.672426\n",
              "183    62626.392114\n",
              "184    62797.097488\n",
              "185    62960.507794\n",
              "186    63148.995669\n",
              "187    63280.528769\n",
              "188    63384.134208\n",
              "189    63560.232480\n",
              "190    63734.826927\n",
              "191    63961.259481\n",
              "192    64083.332629\n",
              "193    64172.102338\n",
              "194    64351.001457\n",
              "195    64490.570359\n",
              "196    64662.723547\n",
              "197    64828.777449\n",
              "198    65024.728404\n",
              "199    65152.567900\n",
              "200    65246.463388\n",
              "201    65422.150025\n",
              "202    65593.069704\n",
              "203    65842.592567\n",
              "204    65962.416444\n",
              "205    66039.600807\n",
              "206    66212.394312\n",
              "207    66354.309268\n",
              "208    66526.023590\n",
              "209    66691.218638\n",
              "210    66884.651369\n",
              "211    67013.625587\n",
              "212    67110.738662\n",
              "213    67286.634139\n",
              "214    67458.903793\n",
              "215    67700.750541\n",
              "216    67821.111425\n",
              "217    67907.164143\n",
              "218    68073.758338\n",
              "219    68218.057262\n",
              "220    68389.288897\n",
              "221    68553.602078\n",
              "222    68744.546106\n",
              "223    68874.751881\n",
              "224    68975.103249\n",
              "225    69151.136542\n",
              "226    69324.630948\n",
              "227    69558.777988\n",
              "Name: yhat, dtype: float64"
            ]
          },
          "metadata": {
            "tags": []
          },
          "execution_count": 109
        }
      ]
    },
    {
      "cell_type": "code",
      "metadata": {
        "colab": {
          "base_uri": "https://localhost:8080/",
          "height": 1000
        },
        "id": "eUa1I6owFWcJ",
        "outputId": "faad6fc9-92da-4d48-b7e9-1b1e35b4872b"
      },
      "source": [
        "test_df"
      ],
      "execution_count": 110,
      "outputs": [
        {
          "output_type": "execute_result",
          "data": {
            "text/html": [
              "<div>\n",
              "<style scoped>\n",
              "    .dataframe tbody tr th:only-of-type {\n",
              "        vertical-align: middle;\n",
              "    }\n",
              "\n",
              "    .dataframe tbody tr th {\n",
              "        vertical-align: top;\n",
              "    }\n",
              "\n",
              "    .dataframe thead th {\n",
              "        text-align: right;\n",
              "    }\n",
              "</style>\n",
              "<table border=\"1\" class=\"dataframe\">\n",
              "  <thead>\n",
              "    <tr style=\"text-align: right;\">\n",
              "      <th></th>\n",
              "      <th>Metric</th>\n",
              "      <th>Median Household Income</th>\n",
              "    </tr>\n",
              "  </thead>\n",
              "  <tbody>\n",
              "    <tr>\n",
              "      <th>0</th>\n",
              "      <td>2019-01-31</td>\n",
              "      <td>62550.345556</td>\n",
              "    </tr>\n",
              "    <tr>\n",
              "      <th>1</th>\n",
              "      <td>2019-02-28</td>\n",
              "      <td>62690.874444</td>\n",
              "    </tr>\n",
              "    <tr>\n",
              "      <th>2</th>\n",
              "      <td>2019-03-31</td>\n",
              "      <td>62846.460000</td>\n",
              "    </tr>\n",
              "    <tr>\n",
              "      <th>3</th>\n",
              "      <td>2019-04-30</td>\n",
              "      <td>62985.056703</td>\n",
              "    </tr>\n",
              "    <tr>\n",
              "      <th>4</th>\n",
              "      <td>2019-05-31</td>\n",
              "      <td>63128.273297</td>\n",
              "    </tr>\n",
              "    <tr>\n",
              "      <th>5</th>\n",
              "      <td>2019-06-30</td>\n",
              "      <td>63266.870000</td>\n",
              "    </tr>\n",
              "    <tr>\n",
              "      <th>6</th>\n",
              "      <td>2019-07-31</td>\n",
              "      <td>63422.638261</td>\n",
              "    </tr>\n",
              "    <tr>\n",
              "      <th>7</th>\n",
              "      <td>2019-08-31</td>\n",
              "      <td>63578.406522</td>\n",
              "    </tr>\n",
              "    <tr>\n",
              "      <th>8</th>\n",
              "      <td>2019-09-30</td>\n",
              "      <td>63729.150000</td>\n",
              "    </tr>\n",
              "    <tr>\n",
              "      <th>9</th>\n",
              "      <td>2019-10-31</td>\n",
              "      <td>63895.532391</td>\n",
              "    </tr>\n",
              "    <tr>\n",
              "      <th>10</th>\n",
              "      <td>2019-11-30</td>\n",
              "      <td>64056.547609</td>\n",
              "    </tr>\n",
              "    <tr>\n",
              "      <th>11</th>\n",
              "      <td>2019-12-31</td>\n",
              "      <td>64222.930000</td>\n",
              "    </tr>\n",
              "    <tr>\n",
              "      <th>12</th>\n",
              "      <td>2020-01-31</td>\n",
              "      <td>64393.818352</td>\n",
              "    </tr>\n",
              "    <tr>\n",
              "      <th>13</th>\n",
              "      <td>2020-02-29</td>\n",
              "      <td>64553.681648</td>\n",
              "    </tr>\n",
              "    <tr>\n",
              "      <th>14</th>\n",
              "      <td>2020-03-31</td>\n",
              "      <td>64724.570000</td>\n",
              "    </tr>\n",
              "    <tr>\n",
              "      <th>15</th>\n",
              "      <td>2020-04-30</td>\n",
              "      <td>64891.053516</td>\n",
              "    </tr>\n",
              "    <tr>\n",
              "      <th>16</th>\n",
              "      <td>2020-05-31</td>\n",
              "      <td>65063.086484</td>\n",
              "    </tr>\n",
              "    <tr>\n",
              "      <th>17</th>\n",
              "      <td>2020-06-30</td>\n",
              "      <td>65229.570000</td>\n",
              "    </tr>\n",
              "    <tr>\n",
              "      <th>18</th>\n",
              "      <td>2020-07-31</td>\n",
              "      <td>65398.348152</td>\n",
              "    </tr>\n",
              "    <tr>\n",
              "      <th>19</th>\n",
              "      <td>2020-08-31</td>\n",
              "      <td>65567.126304</td>\n",
              "    </tr>\n",
              "    <tr>\n",
              "      <th>20</th>\n",
              "      <td>2020-09-30</td>\n",
              "      <td>65730.460000</td>\n",
              "    </tr>\n",
              "    <tr>\n",
              "      <th>21</th>\n",
              "      <td>2020-10-31</td>\n",
              "      <td>65899.608804</td>\n",
              "    </tr>\n",
              "    <tr>\n",
              "      <th>22</th>\n",
              "      <td>2020-11-30</td>\n",
              "      <td>66063.301196</td>\n",
              "    </tr>\n",
              "    <tr>\n",
              "      <th>23</th>\n",
              "      <td>2020-12-31</td>\n",
              "      <td>66232.450000</td>\n",
              "    </tr>\n",
              "    <tr>\n",
              "      <th>24</th>\n",
              "      <td>2021-01-31</td>\n",
              "      <td>66404.813444</td>\n",
              "    </tr>\n",
              "    <tr>\n",
              "      <th>25</th>\n",
              "      <td>2021-02-28</td>\n",
              "      <td>66560.496556</td>\n",
              "    </tr>\n",
              "    <tr>\n",
              "      <th>26</th>\n",
              "      <td>2021-03-31</td>\n",
              "      <td>66732.860000</td>\n",
              "    </tr>\n",
              "    <tr>\n",
              "      <th>27</th>\n",
              "      <td>2021-04-30</td>\n",
              "      <td>66882.408352</td>\n",
              "    </tr>\n",
              "    <tr>\n",
              "      <th>28</th>\n",
              "      <td>2021-05-31</td>\n",
              "      <td>67036.941648</td>\n",
              "    </tr>\n",
              "    <tr>\n",
              "      <th>29</th>\n",
              "      <td>2021-06-30</td>\n",
              "      <td>67186.490000</td>\n",
              "    </tr>\n",
              "    <tr>\n",
              "      <th>30</th>\n",
              "      <td>2021-07-31</td>\n",
              "      <td>67331.489130</td>\n",
              "    </tr>\n",
              "    <tr>\n",
              "      <th>31</th>\n",
              "      <td>2021-08-31</td>\n",
              "      <td>67476.488261</td>\n",
              "    </tr>\n",
              "    <tr>\n",
              "      <th>32</th>\n",
              "      <td>2021-09-30</td>\n",
              "      <td>67616.810000</td>\n",
              "    </tr>\n",
              "    <tr>\n",
              "      <th>33</th>\n",
              "      <td>2021-10-31</td>\n",
              "      <td>67752.943804</td>\n",
              "    </tr>\n",
              "    <tr>\n",
              "      <th>34</th>\n",
              "      <td>2021-11-30</td>\n",
              "      <td>67884.686196</td>\n",
              "    </tr>\n",
              "    <tr>\n",
              "      <th>35</th>\n",
              "      <td>2021-12-31</td>\n",
              "      <td>68020.820000</td>\n",
              "    </tr>\n",
              "    <tr>\n",
              "      <th>36</th>\n",
              "      <td>2022-01-31</td>\n",
              "      <td>68147.003778</td>\n",
              "    </tr>\n",
              "    <tr>\n",
              "      <th>37</th>\n",
              "      <td>2022-02-28</td>\n",
              "      <td>68260.976222</td>\n",
              "    </tr>\n",
              "    <tr>\n",
              "      <th>38</th>\n",
              "      <td>2022-03-31</td>\n",
              "      <td>68387.160000</td>\n",
              "    </tr>\n",
              "    <tr>\n",
              "      <th>39</th>\n",
              "      <td>2022-04-30</td>\n",
              "      <td>68508.864396</td>\n",
              "    </tr>\n",
              "    <tr>\n",
              "      <th>40</th>\n",
              "      <td>2022-05-31</td>\n",
              "      <td>68634.625604</td>\n",
              "    </tr>\n",
              "    <tr>\n",
              "      <th>41</th>\n",
              "      <td>2022-06-30</td>\n",
              "      <td>68756.330000</td>\n",
              "    </tr>\n",
              "    <tr>\n",
              "      <th>42</th>\n",
              "      <td>2022-07-31</td>\n",
              "      <td>68890.212935</td>\n",
              "    </tr>\n",
              "    <tr>\n",
              "      <th>43</th>\n",
              "      <td>2022-08-31</td>\n",
              "      <td>69024.095870</td>\n",
              "    </tr>\n",
              "    <tr>\n",
              "      <th>44</th>\n",
              "      <td>2022-09-30</td>\n",
              "      <td>69153.660000</td>\n",
              "    </tr>\n",
              "    <tr>\n",
              "      <th>45</th>\n",
              "      <td>2022-10-31</td>\n",
              "      <td>69286.730870</td>\n",
              "    </tr>\n",
              "    <tr>\n",
              "      <th>46</th>\n",
              "      <td>2022-11-30</td>\n",
              "      <td>69415.509130</td>\n",
              "    </tr>\n",
              "    <tr>\n",
              "      <th>47</th>\n",
              "      <td>2022-12-31</td>\n",
              "      <td>69548.580000</td>\n",
              "    </tr>\n",
              "  </tbody>\n",
              "</table>\n",
              "</div>"
            ],
            "text/plain": [
              "       Metric  Median Household Income\n",
              "0  2019-01-31             62550.345556\n",
              "1  2019-02-28             62690.874444\n",
              "2  2019-03-31             62846.460000\n",
              "3  2019-04-30             62985.056703\n",
              "4  2019-05-31             63128.273297\n",
              "5  2019-06-30             63266.870000\n",
              "6  2019-07-31             63422.638261\n",
              "7  2019-08-31             63578.406522\n",
              "8  2019-09-30             63729.150000\n",
              "9  2019-10-31             63895.532391\n",
              "10 2019-11-30             64056.547609\n",
              "11 2019-12-31             64222.930000\n",
              "12 2020-01-31             64393.818352\n",
              "13 2020-02-29             64553.681648\n",
              "14 2020-03-31             64724.570000\n",
              "15 2020-04-30             64891.053516\n",
              "16 2020-05-31             65063.086484\n",
              "17 2020-06-30             65229.570000\n",
              "18 2020-07-31             65398.348152\n",
              "19 2020-08-31             65567.126304\n",
              "20 2020-09-30             65730.460000\n",
              "21 2020-10-31             65899.608804\n",
              "22 2020-11-30             66063.301196\n",
              "23 2020-12-31             66232.450000\n",
              "24 2021-01-31             66404.813444\n",
              "25 2021-02-28             66560.496556\n",
              "26 2021-03-31             66732.860000\n",
              "27 2021-04-30             66882.408352\n",
              "28 2021-05-31             67036.941648\n",
              "29 2021-06-30             67186.490000\n",
              "30 2021-07-31             67331.489130\n",
              "31 2021-08-31             67476.488261\n",
              "32 2021-09-30             67616.810000\n",
              "33 2021-10-31             67752.943804\n",
              "34 2021-11-30             67884.686196\n",
              "35 2021-12-31             68020.820000\n",
              "36 2022-01-31             68147.003778\n",
              "37 2022-02-28             68260.976222\n",
              "38 2022-03-31             68387.160000\n",
              "39 2022-04-30             68508.864396\n",
              "40 2022-05-31             68634.625604\n",
              "41 2022-06-30             68756.330000\n",
              "42 2022-07-31             68890.212935\n",
              "43 2022-08-31             69024.095870\n",
              "44 2022-09-30             69153.660000\n",
              "45 2022-10-31             69286.730870\n",
              "46 2022-11-30             69415.509130\n",
              "47 2022-12-31             69548.580000"
            ]
          },
          "metadata": {
            "tags": []
          },
          "execution_count": 110
        }
      ]
    },
    {
      "cell_type": "code",
      "metadata": {
        "colab": {
          "base_uri": "https://localhost:8080/"
        },
        "id": "Szqt0LoCAiU_",
        "outputId": "7b487f87-6e77-4814-b020-b39b69eb8284"
      },
      "source": [
        "y_test = test_df['Median Household Income']\r\n",
        "y_test"
      ],
      "execution_count": 111,
      "outputs": [
        {
          "output_type": "execute_result",
          "data": {
            "text/plain": [
              "0     62550.345556\n",
              "1     62690.874444\n",
              "2     62846.460000\n",
              "3     62985.056703\n",
              "4     63128.273297\n",
              "5     63266.870000\n",
              "6     63422.638261\n",
              "7     63578.406522\n",
              "8     63729.150000\n",
              "9     63895.532391\n",
              "10    64056.547609\n",
              "11    64222.930000\n",
              "12    64393.818352\n",
              "13    64553.681648\n",
              "14    64724.570000\n",
              "15    64891.053516\n",
              "16    65063.086484\n",
              "17    65229.570000\n",
              "18    65398.348152\n",
              "19    65567.126304\n",
              "20    65730.460000\n",
              "21    65899.608804\n",
              "22    66063.301196\n",
              "23    66232.450000\n",
              "24    66404.813444\n",
              "25    66560.496556\n",
              "26    66732.860000\n",
              "27    66882.408352\n",
              "28    67036.941648\n",
              "29    67186.490000\n",
              "30    67331.489130\n",
              "31    67476.488261\n",
              "32    67616.810000\n",
              "33    67752.943804\n",
              "34    67884.686196\n",
              "35    68020.820000\n",
              "36    68147.003778\n",
              "37    68260.976222\n",
              "38    68387.160000\n",
              "39    68508.864396\n",
              "40    68634.625604\n",
              "41    68756.330000\n",
              "42    68890.212935\n",
              "43    69024.095870\n",
              "44    69153.660000\n",
              "45    69286.730870\n",
              "46    69415.509130\n",
              "47    69548.580000\n",
              "Name: Median Household Income, dtype: float64"
            ]
          },
          "metadata": {
            "tags": []
          },
          "execution_count": 111
        }
      ]
    },
    {
      "cell_type": "markdown",
      "metadata": {
        "id": "OXmJRzU28qYJ"
      },
      "source": [
        "## Evaluation for Test data"
      ]
    },
    {
      "cell_type": "code",
      "metadata": {
        "colab": {
          "base_uri": "https://localhost:8080/"
        },
        "id": "Eqdf-3RHAiLE",
        "outputId": "a2ef37d4-372c-47c1-8d94-73ac6313ae44"
      },
      "source": [
        "rmse_test = mean_squared_error(y_test, yhat_test, squared=False)\r\n",
        "rmse_test"
      ],
      "execution_count": 112,
      "outputs": [
        {
          "output_type": "execute_result",
          "data": {
            "text/plain": [
              "370.79822840110756"
            ]
          },
          "metadata": {
            "tags": []
          },
          "execution_count": 112
        }
      ]
    },
    {
      "cell_type": "code",
      "metadata": {
        "colab": {
          "base_uri": "https://localhost:8080/"
        },
        "id": "8802YE4uAiAq",
        "outputId": "1a1c5b20-7365-44f6-d104-3180edaad2a5"
      },
      "source": [
        "r2_test = r2_score(y_test, yhat_test)\r\n",
        "r2_test"
      ],
      "execution_count": 113,
      "outputs": [
        {
          "output_type": "execute_result",
          "data": {
            "text/plain": [
              "0.9692948114221862"
            ]
          },
          "metadata": {
            "tags": []
          },
          "execution_count": 113
        }
      ]
    },
    {
      "cell_type": "markdown",
      "metadata": {
        "id": "kctCD0UfHP73"
      },
      "source": [
        "we achieved a R2 of 0.97 "
      ]
    }
  ]
}