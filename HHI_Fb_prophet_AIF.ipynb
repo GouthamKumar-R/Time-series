{
  "nbformat": 4,
  "nbformat_minor": 0,
  "metadata": {
    "colab": {
      "name": "HHI Fb prophet - AIF ",
      "provenance": [],
      "collapsed_sections": [],
      "toc_visible": true,
      "authorship_tag": "ABX9TyOHBZs61neq/qi3hAo/acYQ",
      "include_colab_link": true
    },
    "kernelspec": {
      "name": "python3",
      "display_name": "Python 3"
    }
  },
  "cells": [
    {
      "cell_type": "markdown",
      "metadata": {
        "id": "view-in-github",
        "colab_type": "text"
      },
      "source": [
        "<a href=\"https://colab.research.google.com/github/GouthamKumar-R/Time-series/blob/main/HHI_Fb_prophet_AIF.ipynb\" target=\"_parent\"><img src=\"https://colab.research.google.com/assets/colab-badge.svg\" alt=\"Open In Colab\"/></a>"
      ]
    },
    {
      "cell_type": "code",
      "metadata": {
        "id": "CS27KK8ckAdH"
      },
      "source": [
        "import pandas as pd\r\n",
        "import numpy as np\r\n",
        "import matplotlib.pyplot as plt\r\n",
        "import seaborn as sns\r\n",
        "\r\n",
        "import fbprophet\r\n",
        "from fbprophet import Prophet\r\n",
        "\r\n",
        "#ignore warnings\r\n",
        "import warnings\r\n",
        "warnings.filterwarnings(\"ignore\")"
      ],
      "execution_count": 1,
      "outputs": []
    },
    {
      "cell_type": "code",
      "metadata": {
        "colab": {
          "resources": {
            "http://localhost:8080/nbextensions/google.colab/files.js": {
              "data": "Ly8gQ29weXJpZ2h0IDIwMTcgR29vZ2xlIExMQwovLwovLyBMaWNlbnNlZCB1bmRlciB0aGUgQXBhY2hlIExpY2Vuc2UsIFZlcnNpb24gMi4wICh0aGUgIkxpY2Vuc2UiKTsKLy8geW91IG1heSBub3QgdXNlIHRoaXMgZmlsZSBleGNlcHQgaW4gY29tcGxpYW5jZSB3aXRoIHRoZSBMaWNlbnNlLgovLyBZb3UgbWF5IG9idGFpbiBhIGNvcHkgb2YgdGhlIExpY2Vuc2UgYXQKLy8KLy8gICAgICBodHRwOi8vd3d3LmFwYWNoZS5vcmcvbGljZW5zZXMvTElDRU5TRS0yLjAKLy8KLy8gVW5sZXNzIHJlcXVpcmVkIGJ5IGFwcGxpY2FibGUgbGF3IG9yIGFncmVlZCB0byBpbiB3cml0aW5nLCBzb2Z0d2FyZQovLyBkaXN0cmlidXRlZCB1bmRlciB0aGUgTGljZW5zZSBpcyBkaXN0cmlidXRlZCBvbiBhbiAiQVMgSVMiIEJBU0lTLAovLyBXSVRIT1VUIFdBUlJBTlRJRVMgT1IgQ09ORElUSU9OUyBPRiBBTlkgS0lORCwgZWl0aGVyIGV4cHJlc3Mgb3IgaW1wbGllZC4KLy8gU2VlIHRoZSBMaWNlbnNlIGZvciB0aGUgc3BlY2lmaWMgbGFuZ3VhZ2UgZ292ZXJuaW5nIHBlcm1pc3Npb25zIGFuZAovLyBsaW1pdGF0aW9ucyB1bmRlciB0aGUgTGljZW5zZS4KCi8qKgogKiBAZmlsZW92ZXJ2aWV3IEhlbHBlcnMgZm9yIGdvb2dsZS5jb2xhYiBQeXRob24gbW9kdWxlLgogKi8KKGZ1bmN0aW9uKHNjb3BlKSB7CmZ1bmN0aW9uIHNwYW4odGV4dCwgc3R5bGVBdHRyaWJ1dGVzID0ge30pIHsKICBjb25zdCBlbGVtZW50ID0gZG9jdW1lbnQuY3JlYXRlRWxlbWVudCgnc3BhbicpOwogIGVsZW1lbnQudGV4dENvbnRlbnQgPSB0ZXh0OwogIGZvciAoY29uc3Qga2V5IG9mIE9iamVjdC5rZXlzKHN0eWxlQXR0cmlidXRlcykpIHsKICAgIGVsZW1lbnQuc3R5bGVba2V5XSA9IHN0eWxlQXR0cmlidXRlc1trZXldOwogIH0KICByZXR1cm4gZWxlbWVudDsKfQoKLy8gTWF4IG51bWJlciBvZiBieXRlcyB3aGljaCB3aWxsIGJlIHVwbG9hZGVkIGF0IGEgdGltZS4KY29uc3QgTUFYX1BBWUxPQURfU0laRSA9IDEwMCAqIDEwMjQ7CgpmdW5jdGlvbiBfdXBsb2FkRmlsZXMoaW5wdXRJZCwgb3V0cHV0SWQpIHsKICBjb25zdCBzdGVwcyA9IHVwbG9hZEZpbGVzU3RlcChpbnB1dElkLCBvdXRwdXRJZCk7CiAgY29uc3Qgb3V0cHV0RWxlbWVudCA9IGRvY3VtZW50LmdldEVsZW1lbnRCeUlkKG91dHB1dElkKTsKICAvLyBDYWNoZSBzdGVwcyBvbiB0aGUgb3V0cHV0RWxlbWVudCB0byBtYWtlIGl0IGF2YWlsYWJsZSBmb3IgdGhlIG5leHQgY2FsbAogIC8vIHRvIHVwbG9hZEZpbGVzQ29udGludWUgZnJvbSBQeXRob24uCiAgb3V0cHV0RWxlbWVudC5zdGVwcyA9IHN0ZXBzOwoKICByZXR1cm4gX3VwbG9hZEZpbGVzQ29udGludWUob3V0cHV0SWQpOwp9CgovLyBUaGlzIGlzIHJvdWdobHkgYW4gYXN5bmMgZ2VuZXJhdG9yIChub3Qgc3VwcG9ydGVkIGluIHRoZSBicm93c2VyIHlldCksCi8vIHdoZXJlIHRoZXJlIGFyZSBtdWx0aXBsZSBhc3luY2hyb25vdXMgc3RlcHMgYW5kIHRoZSBQeXRob24gc2lkZSBpcyBnb2luZwovLyB0byBwb2xsIGZvciBjb21wbGV0aW9uIG9mIGVhY2ggc3RlcC4KLy8gVGhpcyB1c2VzIGEgUHJvbWlzZSB0byBibG9jayB0aGUgcHl0aG9uIHNpZGUgb24gY29tcGxldGlvbiBvZiBlYWNoIHN0ZXAsCi8vIHRoZW4gcGFzc2VzIHRoZSByZXN1bHQgb2YgdGhlIHByZXZpb3VzIHN0ZXAgYXMgdGhlIGlucHV0IHRvIHRoZSBuZXh0IHN0ZXAuCmZ1bmN0aW9uIF91cGxvYWRGaWxlc0NvbnRpbnVlKG91dHB1dElkKSB7CiAgY29uc3Qgb3V0cHV0RWxlbWVudCA9IGRvY3VtZW50LmdldEVsZW1lbnRCeUlkKG91dHB1dElkKTsKICBjb25zdCBzdGVwcyA9IG91dHB1dEVsZW1lbnQuc3RlcHM7CgogIGNvbnN0IG5leHQgPSBzdGVwcy5uZXh0KG91dHB1dEVsZW1lbnQubGFzdFByb21pc2VWYWx1ZSk7CiAgcmV0dXJuIFByb21pc2UucmVzb2x2ZShuZXh0LnZhbHVlLnByb21pc2UpLnRoZW4oKHZhbHVlKSA9PiB7CiAgICAvLyBDYWNoZSB0aGUgbGFzdCBwcm9taXNlIHZhbHVlIHRvIG1ha2UgaXQgYXZhaWxhYmxlIHRvIHRoZSBuZXh0CiAgICAvLyBzdGVwIG9mIHRoZSBnZW5lcmF0b3IuCiAgICBvdXRwdXRFbGVtZW50Lmxhc3RQcm9taXNlVmFsdWUgPSB2YWx1ZTsKICAgIHJldHVybiBuZXh0LnZhbHVlLnJlc3BvbnNlOwogIH0pOwp9CgovKioKICogR2VuZXJhdG9yIGZ1bmN0aW9uIHdoaWNoIGlzIGNhbGxlZCBiZXR3ZWVuIGVhY2ggYXN5bmMgc3RlcCBvZiB0aGUgdXBsb2FkCiAqIHByb2Nlc3MuCiAqIEBwYXJhbSB7c3RyaW5nfSBpbnB1dElkIEVsZW1lbnQgSUQgb2YgdGhlIGlucHV0IGZpbGUgcGlja2VyIGVsZW1lbnQuCiAqIEBwYXJhbSB7c3RyaW5nfSBvdXRwdXRJZCBFbGVtZW50IElEIG9mIHRoZSBvdXRwdXQgZGlzcGxheS4KICogQHJldHVybiB7IUl0ZXJhYmxlPCFPYmplY3Q+fSBJdGVyYWJsZSBvZiBuZXh0IHN0ZXBzLgogKi8KZnVuY3Rpb24qIHVwbG9hZEZpbGVzU3RlcChpbnB1dElkLCBvdXRwdXRJZCkgewogIGNvbnN0IGlucHV0RWxlbWVudCA9IGRvY3VtZW50LmdldEVsZW1lbnRCeUlkKGlucHV0SWQpOwogIGlucHV0RWxlbWVudC5kaXNhYmxlZCA9IGZhbHNlOwoKICBjb25zdCBvdXRwdXRFbGVtZW50ID0gZG9jdW1lbnQuZ2V0RWxlbWVudEJ5SWQob3V0cHV0SWQpOwogIG91dHB1dEVsZW1lbnQuaW5uZXJIVE1MID0gJyc7CgogIGNvbnN0IHBpY2tlZFByb21pc2UgPSBuZXcgUHJvbWlzZSgocmVzb2x2ZSkgPT4gewogICAgaW5wdXRFbGVtZW50LmFkZEV2ZW50TGlzdGVuZXIoJ2NoYW5nZScsIChlKSA9PiB7CiAgICAgIHJlc29sdmUoZS50YXJnZXQuZmlsZXMpOwogICAgfSk7CiAgfSk7CgogIGNvbnN0IGNhbmNlbCA9IGRvY3VtZW50LmNyZWF0ZUVsZW1lbnQoJ2J1dHRvbicpOwogIGlucHV0RWxlbWVudC5wYXJlbnRFbGVtZW50LmFwcGVuZENoaWxkKGNhbmNlbCk7CiAgY2FuY2VsLnRleHRDb250ZW50ID0gJ0NhbmNlbCB1cGxvYWQnOwogIGNvbnN0IGNhbmNlbFByb21pc2UgPSBuZXcgUHJvbWlzZSgocmVzb2x2ZSkgPT4gewogICAgY2FuY2VsLm9uY2xpY2sgPSAoKSA9PiB7CiAgICAgIHJlc29sdmUobnVsbCk7CiAgICB9OwogIH0pOwoKICAvLyBXYWl0IGZvciB0aGUgdXNlciB0byBwaWNrIHRoZSBmaWxlcy4KICBjb25zdCBmaWxlcyA9IHlpZWxkIHsKICAgIHByb21pc2U6IFByb21pc2UucmFjZShbcGlja2VkUHJvbWlzZSwgY2FuY2VsUHJvbWlzZV0pLAogICAgcmVzcG9uc2U6IHsKICAgICAgYWN0aW9uOiAnc3RhcnRpbmcnLAogICAgfQogIH07CgogIGNhbmNlbC5yZW1vdmUoKTsKCiAgLy8gRGlzYWJsZSB0aGUgaW5wdXQgZWxlbWVudCBzaW5jZSBmdXJ0aGVyIHBpY2tzIGFyZSBub3QgYWxsb3dlZC4KICBpbnB1dEVsZW1lbnQuZGlzYWJsZWQgPSB0cnVlOwoKICBpZiAoIWZpbGVzKSB7CiAgICByZXR1cm4gewogICAgICByZXNwb25zZTogewogICAgICAgIGFjdGlvbjogJ2NvbXBsZXRlJywKICAgICAgfQogICAgfTsKICB9CgogIGZvciAoY29uc3QgZmlsZSBvZiBmaWxlcykgewogICAgY29uc3QgbGkgPSBkb2N1bWVudC5jcmVhdGVFbGVtZW50KCdsaScpOwogICAgbGkuYXBwZW5kKHNwYW4oZmlsZS5uYW1lLCB7Zm9udFdlaWdodDogJ2JvbGQnfSkpOwogICAgbGkuYXBwZW5kKHNwYW4oCiAgICAgICAgYCgke2ZpbGUudHlwZSB8fCAnbi9hJ30pIC0gJHtmaWxlLnNpemV9IGJ5dGVzLCBgICsKICAgICAgICBgbGFzdCBtb2RpZmllZDogJHsKICAgICAgICAgICAgZmlsZS5sYXN0TW9kaWZpZWREYXRlID8gZmlsZS5sYXN0TW9kaWZpZWREYXRlLnRvTG9jYWxlRGF0ZVN0cmluZygpIDoKICAgICAgICAgICAgICAgICAgICAgICAgICAgICAgICAgICAgJ24vYSd9IC0gYCkpOwogICAgY29uc3QgcGVyY2VudCA9IHNwYW4oJzAlIGRvbmUnKTsKICAgIGxpLmFwcGVuZENoaWxkKHBlcmNlbnQpOwoKICAgIG91dHB1dEVsZW1lbnQuYXBwZW5kQ2hpbGQobGkpOwoKICAgIGNvbnN0IGZpbGVEYXRhUHJvbWlzZSA9IG5ldyBQcm9taXNlKChyZXNvbHZlKSA9PiB7CiAgICAgIGNvbnN0IHJlYWRlciA9IG5ldyBGaWxlUmVhZGVyKCk7CiAgICAgIHJlYWRlci5vbmxvYWQgPSAoZSkgPT4gewogICAgICAgIHJlc29sdmUoZS50YXJnZXQucmVzdWx0KTsKICAgICAgfTsKICAgICAgcmVhZGVyLnJlYWRBc0FycmF5QnVmZmVyKGZpbGUpOwogICAgfSk7CiAgICAvLyBXYWl0IGZvciB0aGUgZGF0YSB0byBiZSByZWFkeS4KICAgIGxldCBmaWxlRGF0YSA9IHlpZWxkIHsKICAgICAgcHJvbWlzZTogZmlsZURhdGFQcm9taXNlLAogICAgICByZXNwb25zZTogewogICAgICAgIGFjdGlvbjogJ2NvbnRpbnVlJywKICAgICAgfQogICAgfTsKCiAgICAvLyBVc2UgYSBjaHVua2VkIHNlbmRpbmcgdG8gYXZvaWQgbWVzc2FnZSBzaXplIGxpbWl0cy4gU2VlIGIvNjIxMTU2NjAuCiAgICBsZXQgcG9zaXRpb24gPSAwOwogICAgd2hpbGUgKHBvc2l0aW9uIDwgZmlsZURhdGEuYnl0ZUxlbmd0aCkgewogICAgICBjb25zdCBsZW5ndGggPSBNYXRoLm1pbihmaWxlRGF0YS5ieXRlTGVuZ3RoIC0gcG9zaXRpb24sIE1BWF9QQVlMT0FEX1NJWkUpOwogICAgICBjb25zdCBjaHVuayA9IG5ldyBVaW50OEFycmF5KGZpbGVEYXRhLCBwb3NpdGlvbiwgbGVuZ3RoKTsKICAgICAgcG9zaXRpb24gKz0gbGVuZ3RoOwoKICAgICAgY29uc3QgYmFzZTY0ID0gYnRvYShTdHJpbmcuZnJvbUNoYXJDb2RlLmFwcGx5KG51bGwsIGNodW5rKSk7CiAgICAgIHlpZWxkIHsKICAgICAgICByZXNwb25zZTogewogICAgICAgICAgYWN0aW9uOiAnYXBwZW5kJywKICAgICAgICAgIGZpbGU6IGZpbGUubmFtZSwKICAgICAgICAgIGRhdGE6IGJhc2U2NCwKICAgICAgICB9LAogICAgICB9OwogICAgICBwZXJjZW50LnRleHRDb250ZW50ID0KICAgICAgICAgIGAke01hdGgucm91bmQoKHBvc2l0aW9uIC8gZmlsZURhdGEuYnl0ZUxlbmd0aCkgKiAxMDApfSUgZG9uZWA7CiAgICB9CiAgfQoKICAvLyBBbGwgZG9uZS4KICB5aWVsZCB7CiAgICByZXNwb25zZTogewogICAgICBhY3Rpb246ICdjb21wbGV0ZScsCiAgICB9CiAgfTsKfQoKc2NvcGUuZ29vZ2xlID0gc2NvcGUuZ29vZ2xlIHx8IHt9OwpzY29wZS5nb29nbGUuY29sYWIgPSBzY29wZS5nb29nbGUuY29sYWIgfHwge307CnNjb3BlLmdvb2dsZS5jb2xhYi5fZmlsZXMgPSB7CiAgX3VwbG9hZEZpbGVzLAogIF91cGxvYWRGaWxlc0NvbnRpbnVlLAp9Owp9KShzZWxmKTsK",
              "ok": true,
              "headers": [
                [
                  "content-type",
                  "application/javascript"
                ]
              ],
              "status": 200,
              "status_text": ""
            }
          },
          "base_uri": "https://localhost:8080/",
          "height": 108
        },
        "id": "PnVZJp8tkzoF",
        "outputId": "790e8046-8d1a-4994-9277-30c3f3231c29"
      },
      "source": [
        "from google.colab import files \r\n",
        "uploaded = files.upload()"
      ],
      "execution_count": 2,
      "outputs": [
        {
          "output_type": "display_data",
          "data": {
            "text/html": [
              "\n",
              "     <input type=\"file\" id=\"files-d9769c8c-f0e7-465e-a1e5-2fdbfa16424b\" name=\"files[]\" multiple disabled\n",
              "        style=\"border:none\" />\n",
              "     <output id=\"result-d9769c8c-f0e7-465e-a1e5-2fdbfa16424b\">\n",
              "      Upload widget is only available when the cell has been executed in the\n",
              "      current browser session. Please rerun this cell to enable.\n",
              "      </output>\n",
              "      <script src=\"/nbextensions/google.colab/files.js\"></script> "
            ],
            "text/plain": [
              "<IPython.core.display.HTML object>"
            ]
          },
          "metadata": {
            "tags": []
          }
        },
        {
          "output_type": "stream",
          "text": [
            "Saving HHI-test.xlsx to HHI-test.xlsx\n",
            "Saving HHI-train.xlsx to HHI-train.xlsx\n"
          ],
          "name": "stdout"
        }
      ]
    },
    {
      "cell_type": "code",
      "metadata": {
        "id": "koRACqfLkF4c"
      },
      "source": [
        "import io\r\n",
        "\r\n",
        "train_df = pd.read_excel(io.BytesIO(uploaded['HHI-train.xlsx']))\r\n",
        "test_df = pd.read_excel(io.BytesIO(uploaded['HHI-test.xlsx']))"
      ],
      "execution_count": 3,
      "outputs": []
    },
    {
      "cell_type": "code",
      "metadata": {
        "id": "9jlAolWWksOT"
      },
      "source": [
        "df = train_df"
      ],
      "execution_count": 4,
      "outputs": []
    },
    {
      "cell_type": "code",
      "metadata": {
        "colab": {
          "base_uri": "https://localhost:8080/",
          "height": 295
        },
        "id": "0x4M1MCxlCOL",
        "outputId": "0337ca2c-37cd-453c-c0cc-9b63e3cd5367"
      },
      "source": [
        "#Plotting\r\n",
        "plt.plot(df[\"Metric\"], df[\"Median Household Income\"],'r')\r\n",
        "plt.title(\"HHI\")\r\n",
        "plt.xlabel(\"Year\")\r\n",
        "plt.ylabel(\"Income\")\r\n",
        "plt.show();\r\n"
      ],
      "execution_count": 5,
      "outputs": [
        {
          "output_type": "display_data",
          "data": {
            "image/png": "[encoded data removed]",
            "text/plain": [
              "<Figure size 432x288 with 1 Axes>"
            ]
          },
          "metadata": {
            "tags": [],
            "needs_background": "light"
          }
        }
      ]
    },
    {
      "cell_type": "code",
      "metadata": {
        "colab": {
          "base_uri": "https://localhost:8080/"
        },
        "id": "oJj2ZhpVlFQm",
        "outputId": "56f92cff-0cec-4362-b465-ec24c192c237"
      },
      "source": [
        "df.dtypes"
      ],
      "execution_count": 6,
      "outputs": [
        {
          "output_type": "execute_result",
          "data": {
            "text/plain": [
              "Metric                     datetime64[ns]\n",
              "Median Household Income           float64\n",
              "dtype: object"
            ]
          },
          "metadata": {
            "tags": []
          },
          "execution_count": 6
        }
      ]
    },
    {
      "cell_type": "code",
      "metadata": {
        "colab": {
          "base_uri": "https://localhost:8080/",
          "height": 198
        },
        "id": "B34XMBUvlGxI",
        "outputId": "207cd1f1-022d-4fa2-fecd-691f939de11b"
      },
      "source": [
        "#change datetype\r\n",
        "df[\"Metric\"] = pd.to_datetime(df[\"Metric\"])\r\n",
        "df.head()"
      ],
      "execution_count": 7,
      "outputs": [
        {
          "output_type": "execute_result",
          "data": {
            "text/html": [
              "<div>\n",
              "<style scoped>\n",
              "    .dataframe tbody tr th:only-of-type {\n",
              "        vertical-align: middle;\n",
              "    }\n",
              "\n",
              "    .dataframe tbody tr th {\n",
              "        vertical-align: top;\n",
              "    }\n",
              "\n",
              "    .dataframe thead th {\n",
              "        text-align: right;\n",
              "    }\n",
              "</style>\n",
              "<table border=\"1\" class=\"dataframe\">\n",
              "  <thead>\n",
              "    <tr style=\"text-align: right;\">\n",
              "      <th></th>\n",
              "      <th>Metric</th>\n",
              "      <th>Median Household Income</th>\n",
              "    </tr>\n",
              "  </thead>\n",
              "  <tbody>\n",
              "    <tr>\n",
              "      <th>0</th>\n",
              "      <td>2004-01-28</td>\n",
              "      <td>43996.755165</td>\n",
              "    </tr>\n",
              "    <tr>\n",
              "      <th>1</th>\n",
              "      <td>2004-02-28</td>\n",
              "      <td>44072.814835</td>\n",
              "    </tr>\n",
              "    <tr>\n",
              "      <th>2</th>\n",
              "      <td>2004-03-28</td>\n",
              "      <td>44154.120000</td>\n",
              "    </tr>\n",
              "    <tr>\n",
              "      <th>3</th>\n",
              "      <td>2004-04-28</td>\n",
              "      <td>44250.420000</td>\n",
              "    </tr>\n",
              "    <tr>\n",
              "      <th>4</th>\n",
              "      <td>2004-05-28</td>\n",
              "      <td>44349.930000</td>\n",
              "    </tr>\n",
              "  </tbody>\n",
              "</table>\n",
              "</div>"
            ],
            "text/plain": [
              "      Metric  Median Household Income\n",
              "0 2004-01-28             43996.755165\n",
              "1 2004-02-28             44072.814835\n",
              "2 2004-03-28             44154.120000\n",
              "3 2004-04-28             44250.420000\n",
              "4 2004-05-28             44349.930000"
            ]
          },
          "metadata": {
            "tags": []
          },
          "execution_count": 7
        }
      ]
    },
    {
      "cell_type": "code",
      "metadata": {
        "colab": {
          "base_uri": "https://localhost:8080/",
          "height": 437
        },
        "id": "tN0loUNDlIR9",
        "outputId": "7f661f25-1f1b-4de0-db3d-bea27fc6c938"
      },
      "source": [
        "df.set_index(\"Metric\")"
      ],
      "execution_count": 8,
      "outputs": [
        {
          "output_type": "execute_result",
          "data": {
            "text/html": [
              "<div>\n",
              "<style scoped>\n",
              "    .dataframe tbody tr th:only-of-type {\n",
              "        vertical-align: middle;\n",
              "    }\n",
              "\n",
              "    .dataframe tbody tr th {\n",
              "        vertical-align: top;\n",
              "    }\n",
              "\n",
              "    .dataframe thead th {\n",
              "        text-align: right;\n",
              "    }\n",
              "</style>\n",
              "<table border=\"1\" class=\"dataframe\">\n",
              "  <thead>\n",
              "    <tr style=\"text-align: right;\">\n",
              "      <th></th>\n",
              "      <th>Median Household Income</th>\n",
              "    </tr>\n",
              "    <tr>\n",
              "      <th>Metric</th>\n",
              "      <th></th>\n",
              "    </tr>\n",
              "  </thead>\n",
              "  <tbody>\n",
              "    <tr>\n",
              "      <th>2004-01-28</th>\n",
              "      <td>43996.755165</td>\n",
              "    </tr>\n",
              "    <tr>\n",
              "      <th>2004-02-28</th>\n",
              "      <td>44072.814835</td>\n",
              "    </tr>\n",
              "    <tr>\n",
              "      <th>2004-03-28</th>\n",
              "      <td>44154.120000</td>\n",
              "    </tr>\n",
              "    <tr>\n",
              "      <th>2004-04-28</th>\n",
              "      <td>44250.420000</td>\n",
              "    </tr>\n",
              "    <tr>\n",
              "      <th>2004-05-28</th>\n",
              "      <td>44349.930000</td>\n",
              "    </tr>\n",
              "    <tr>\n",
              "      <th>...</th>\n",
              "      <td>...</td>\n",
              "    </tr>\n",
              "    <tr>\n",
              "      <th>2018-08-31</th>\n",
              "      <td>61761.472609</td>\n",
              "    </tr>\n",
              "    <tr>\n",
              "      <th>2018-09-30</th>\n",
              "      <td>61927.190000</td>\n",
              "    </tr>\n",
              "    <tr>\n",
              "      <th>2018-10-31</th>\n",
              "      <td>62084.740761</td>\n",
              "    </tr>\n",
              "    <tr>\n",
              "      <th>2018-11-30</th>\n",
              "      <td>62237.209239</td>\n",
              "    </tr>\n",
              "    <tr>\n",
              "      <th>2018-12-31</th>\n",
              "      <td>62394.760000</td>\n",
              "    </tr>\n",
              "  </tbody>\n",
              "</table>\n",
              "<p>180 rows × 1 columns</p>\n",
              "</div>"
            ],
            "text/plain": [
              "            Median Household Income\n",
              "Metric                             \n",
              "2004-01-28             43996.755165\n",
              "2004-02-28             44072.814835\n",
              "2004-03-28             44154.120000\n",
              "2004-04-28             44250.420000\n",
              "2004-05-28             44349.930000\n",
              "...                             ...\n",
              "2018-08-31             61761.472609\n",
              "2018-09-30             61927.190000\n",
              "2018-10-31             62084.740761\n",
              "2018-11-30             62237.209239\n",
              "2018-12-31             62394.760000\n",
              "\n",
              "[180 rows x 1 columns]"
            ]
          },
          "metadata": {
            "tags": []
          },
          "execution_count": 8
        }
      ]
    },
    {
      "cell_type": "code",
      "metadata": {
        "colab": {
          "base_uri": "https://localhost:8080/"
        },
        "id": "yO2tQ9exlJuD",
        "outputId": "6d15e010-95da-4a8c-bee7-3eab7822e206"
      },
      "source": [
        "df.dtypes"
      ],
      "execution_count": 9,
      "outputs": [
        {
          "output_type": "execute_result",
          "data": {
            "text/plain": [
              "Metric                     datetime64[ns]\n",
              "Median Household Income           float64\n",
              "dtype: object"
            ]
          },
          "metadata": {
            "tags": []
          },
          "execution_count": 9
        }
      ]
    },
    {
      "cell_type": "code",
      "metadata": {
        "colab": {
          "base_uri": "https://localhost:8080/"
        },
        "id": "oWrrjvtelMg7",
        "outputId": "52d4742c-235a-4c7c-9360-ae7d48c609d1"
      },
      "source": [
        "#library\r\n",
        "from statsmodels.tsa.stattools import adfuller\r\n",
        "#passing stationary TS\r\n",
        "adf, pvalue, usedlag, nobs, critical_values, icbest = adfuller(df[\"Median Household Income\"])\r\n",
        "print(\"1. ADF: {0};\\n2. p-value: {1};\".format(adf,pvalue))\r\n",
        "print(\"3. Critical values:\\n\",critical_values)"
      ],
      "execution_count": 10,
      "outputs": [
        {
          "output_type": "stream",
          "text": [
            "1. ADF: 0.29524017582572754;\n",
            "2. p-value: 0.9771250515804452;\n",
            "3. Critical values:\n",
            " {'1%': -3.469648263987657, '5%': -2.878798906308495, '10%': -2.5759713094779593}\n"
          ],
          "name": "stdout"
        }
      ]
    },
    {
      "cell_type": "code",
      "metadata": {
        "colab": {
          "base_uri": "https://localhost:8080/",
          "height": 281
        },
        "id": "fCF4YshIlUtJ",
        "outputId": "078a38f8-8dcf-49ff-ee52-3ab2587e5998"
      },
      "source": [
        "#library\r\n",
        "import statsmodels.api as sm\r\n",
        "from statsmodels.graphics.tsaplots import plot_pacf, plot_acf\r\n",
        "\r\n",
        "fig = sm.tsa.graphics.plot_pacf(df[\"Median Household Income\"], alpha=0.05, title = 'pacf check')"
      ],
      "execution_count": 11,
      "outputs": [
        {
          "output_type": "display_data",
          "data": {
            "image/png": "[encoded data removed]",
            "text/plain": [
              "<Figure size 432x288 with 1 Axes>"
            ]
          },
          "metadata": {
            "tags": [],
            "needs_background": "light"
          }
        }
      ]
    },
    {
      "cell_type": "code",
      "metadata": {
        "colab": {
          "base_uri": "https://localhost:8080/",
          "height": 281
        },
        "id": "UzqajNatlWk7",
        "outputId": "ffbd308c-434e-49e8-dc80-72a723ffdd23"
      },
      "source": [
        "fig = sm.tsa.graphics.plot_acf(df[\"Median Household Income\"], alpha=0.05, title = 'acf check')"
      ],
      "execution_count": 12,
      "outputs": [
        {
          "output_type": "display_data",
          "data": {
            "image/png": "[encoded data removed]",
            "text/plain": [
              "<Figure size 432x288 with 1 Axes>"
            ]
          },
          "metadata": {
            "tags": [],
            "needs_background": "light"
          }
        }
      ]
    },
    {
      "cell_type": "code",
      "metadata": {
        "id": "87NDcvFRlXzH"
      },
      "source": [
        "df = train_df"
      ],
      "execution_count": 13,
      "outputs": []
    },
    {
      "cell_type": "code",
      "metadata": {
        "colab": {
          "base_uri": "https://localhost:8080/",
          "height": 198
        },
        "id": "hfhgT-2JlbHE",
        "outputId": "d03c186f-7f3a-4703-f12e-1fd71297ca55"
      },
      "source": [
        "#change datetype\r\n",
        "df[\"Metric\"] = pd.to_datetime(df[\"Metric\"])\r\n",
        "df.head()"
      ],
      "execution_count": 14,
      "outputs": [
        {
          "output_type": "execute_result",
          "data": {
            "text/html": [
              "<div>\n",
              "<style scoped>\n",
              "    .dataframe tbody tr th:only-of-type {\n",
              "        vertical-align: middle;\n",
              "    }\n",
              "\n",
              "    .dataframe tbody tr th {\n",
              "        vertical-align: top;\n",
              "    }\n",
              "\n",
              "    .dataframe thead th {\n",
              "        text-align: right;\n",
              "    }\n",
              "</style>\n",
              "<table border=\"1\" class=\"dataframe\">\n",
              "  <thead>\n",
              "    <tr style=\"text-align: right;\">\n",
              "      <th></th>\n",
              "      <th>Metric</th>\n",
              "      <th>Median Household Income</th>\n",
              "    </tr>\n",
              "  </thead>\n",
              "  <tbody>\n",
              "    <tr>\n",
              "      <th>0</th>\n",
              "      <td>2004-01-28</td>\n",
              "      <td>43996.755165</td>\n",
              "    </tr>\n",
              "    <tr>\n",
              "      <th>1</th>\n",
              "      <td>2004-02-28</td>\n",
              "      <td>44072.814835</td>\n",
              "    </tr>\n",
              "    <tr>\n",
              "      <th>2</th>\n",
              "      <td>2004-03-28</td>\n",
              "      <td>44154.120000</td>\n",
              "    </tr>\n",
              "    <tr>\n",
              "      <th>3</th>\n",
              "      <td>2004-04-28</td>\n",
              "      <td>44250.420000</td>\n",
              "    </tr>\n",
              "    <tr>\n",
              "      <th>4</th>\n",
              "      <td>2004-05-28</td>\n",
              "      <td>44349.930000</td>\n",
              "    </tr>\n",
              "  </tbody>\n",
              "</table>\n",
              "</div>"
            ],
            "text/plain": [
              "      Metric  Median Household Income\n",
              "0 2004-01-28             43996.755165\n",
              "1 2004-02-28             44072.814835\n",
              "2 2004-03-28             44154.120000\n",
              "3 2004-04-28             44250.420000\n",
              "4 2004-05-28             44349.930000"
            ]
          },
          "metadata": {
            "tags": []
          },
          "execution_count": 14
        }
      ]
    },
    {
      "cell_type": "code",
      "metadata": {
        "colab": {
          "base_uri": "https://localhost:8080/",
          "height": 198
        },
        "id": "9OhiFUuvlcsx",
        "outputId": "d85fdf92-94ee-4206-b551-7e1335b32ac5"
      },
      "source": [
        "df = df.rename(columns={\"Metric\":\"ds\", \"Median Household Income\":\"y\"})\r\n",
        "df.head()"
      ],
      "execution_count": 15,
      "outputs": [
        {
          "output_type": "execute_result",
          "data": {
            "text/html": [
              "<div>\n",
              "<style scoped>\n",
              "    .dataframe tbody tr th:only-of-type {\n",
              "        vertical-align: middle;\n",
              "    }\n",
              "\n",
              "    .dataframe tbody tr th {\n",
              "        vertical-align: top;\n",
              "    }\n",
              "\n",
              "    .dataframe thead th {\n",
              "        text-align: right;\n",
              "    }\n",
              "</style>\n",
              "<table border=\"1\" class=\"dataframe\">\n",
              "  <thead>\n",
              "    <tr style=\"text-align: right;\">\n",
              "      <th></th>\n",
              "      <th>ds</th>\n",
              "      <th>y</th>\n",
              "    </tr>\n",
              "  </thead>\n",
              "  <tbody>\n",
              "    <tr>\n",
              "      <th>0</th>\n",
              "      <td>2004-01-28</td>\n",
              "      <td>43996.755165</td>\n",
              "    </tr>\n",
              "    <tr>\n",
              "      <th>1</th>\n",
              "      <td>2004-02-28</td>\n",
              "      <td>44072.814835</td>\n",
              "    </tr>\n",
              "    <tr>\n",
              "      <th>2</th>\n",
              "      <td>2004-03-28</td>\n",
              "      <td>44154.120000</td>\n",
              "    </tr>\n",
              "    <tr>\n",
              "      <th>3</th>\n",
              "      <td>2004-04-28</td>\n",
              "      <td>44250.420000</td>\n",
              "    </tr>\n",
              "    <tr>\n",
              "      <th>4</th>\n",
              "      <td>2004-05-28</td>\n",
              "      <td>44349.930000</td>\n",
              "    </tr>\n",
              "  </tbody>\n",
              "</table>\n",
              "</div>"
            ],
            "text/plain": [
              "          ds             y\n",
              "0 2004-01-28  43996.755165\n",
              "1 2004-02-28  44072.814835\n",
              "2 2004-03-28  44154.120000\n",
              "3 2004-04-28  44250.420000\n",
              "4 2004-05-28  44349.930000"
            ]
          },
          "metadata": {
            "tags": []
          },
          "execution_count": 15
        }
      ]
    },
    {
      "cell_type": "code",
      "metadata": {
        "id": "Ft9JRYs_leMM"
      },
      "source": [
        "#model\r\n",
        "from fbprophet import Prophet\r\n",
        "model = Prophet()"
      ],
      "execution_count": 16,
      "outputs": []
    },
    {
      "cell_type": "code",
      "metadata": {
        "colab": {
          "base_uri": "https://localhost:8080/",
          "height": 198
        },
        "id": "olVsyS0Wlfcx",
        "outputId": "11d4b6f6-b228-48fe-e5b2-2b91149f8b0a"
      },
      "source": [
        "#train data till Jun 2017\r\n",
        "#valdiation data from july 2017\r\n",
        "train_data = df[:162]\r\n",
        "valdiation_data = df[162:]\r\n",
        "\r\n",
        "train_data.tail()"
      ],
      "execution_count": 17,
      "outputs": [
        {
          "output_type": "execute_result",
          "data": {
            "text/html": [
              "<div>\n",
              "<style scoped>\n",
              "    .dataframe tbody tr th:only-of-type {\n",
              "        vertical-align: middle;\n",
              "    }\n",
              "\n",
              "    .dataframe tbody tr th {\n",
              "        vertical-align: top;\n",
              "    }\n",
              "\n",
              "    .dataframe thead th {\n",
              "        text-align: right;\n",
              "    }\n",
              "</style>\n",
              "<table border=\"1\" class=\"dataframe\">\n",
              "  <thead>\n",
              "    <tr style=\"text-align: right;\">\n",
              "      <th></th>\n",
              "      <th>ds</th>\n",
              "      <th>y</th>\n",
              "    </tr>\n",
              "  </thead>\n",
              "  <tbody>\n",
              "    <tr>\n",
              "      <th>157</th>\n",
              "      <td>2017-02-28</td>\n",
              "      <td>58547.034889</td>\n",
              "    </tr>\n",
              "    <tr>\n",
              "      <th>158</th>\n",
              "      <td>2017-03-31</td>\n",
              "      <td>58714.180000</td>\n",
              "    </tr>\n",
              "    <tr>\n",
              "      <th>159</th>\n",
              "      <td>2017-04-30</td>\n",
              "      <td>58865.238242</td>\n",
              "    </tr>\n",
              "    <tr>\n",
              "      <th>160</th>\n",
              "      <td>2017-05-31</td>\n",
              "      <td>59021.331758</td>\n",
              "    </tr>\n",
              "    <tr>\n",
              "      <th>161</th>\n",
              "      <td>2017-06-30</td>\n",
              "      <td>59172.390000</td>\n",
              "    </tr>\n",
              "  </tbody>\n",
              "</table>\n",
              "</div>"
            ],
            "text/plain": [
              "            ds             y\n",
              "157 2017-02-28  58547.034889\n",
              "158 2017-03-31  58714.180000\n",
              "159 2017-04-30  58865.238242\n",
              "160 2017-05-31  59021.331758\n",
              "161 2017-06-30  59172.390000"
            ]
          },
          "metadata": {
            "tags": []
          },
          "execution_count": 17
        }
      ]
    },
    {
      "cell_type": "code",
      "metadata": {
        "colab": {
          "base_uri": "https://localhost:8080/"
        },
        "id": "q8HQ6oJjlkuq",
        "outputId": "d9488689-598d-432b-f8df-d78497225b3c"
      },
      "source": [
        "# let's fit our model\r\n",
        "model.fit(train_data)"
      ],
      "execution_count": 18,
      "outputs": [
        {
          "output_type": "stream",
          "text": [
            "INFO:numexpr.utils:NumExpr defaulting to 2 threads.\n",
            "INFO:fbprophet:Disabling weekly seasonality. Run prophet with weekly_seasonality=True to override this.\n",
            "INFO:fbprophet:Disabling daily seasonality. Run prophet with daily_seasonality=True to override this.\n"
          ],
          "name": "stderr"
        },
        {
          "output_type": "execute_result",
          "data": {
            "text/plain": [
              "<fbprophet.forecaster.Prophet at 0x7f49eb280750>"
            ]
          },
          "metadata": {
            "tags": []
          },
          "execution_count": 18
        }
      ]
    },
    {
      "cell_type": "code",
      "metadata": {
        "colab": {
          "base_uri": "https://localhost:8080/",
          "height": 407
        },
        "id": "kGxFWMZIlnVr",
        "outputId": "e0eac932-211f-4918-c35b-ad72d160cc92"
      },
      "source": [
        "future_df = model.make_future_dataframe(periods=18, freq=\"M\")\r\n",
        "future_df"
      ],
      "execution_count": 19,
      "outputs": [
        {
          "output_type": "execute_result",
          "data": {
            "text/html": [
              "<div>\n",
              "<style scoped>\n",
              "    .dataframe tbody tr th:only-of-type {\n",
              "        vertical-align: middle;\n",
              "    }\n",
              "\n",
              "    .dataframe tbody tr th {\n",
              "        vertical-align: top;\n",
              "    }\n",
              "\n",
              "    .dataframe thead th {\n",
              "        text-align: right;\n",
              "    }\n",
              "</style>\n",
              "<table border=\"1\" class=\"dataframe\">\n",
              "  <thead>\n",
              "    <tr style=\"text-align: right;\">\n",
              "      <th></th>\n",
              "      <th>ds</th>\n",
              "    </tr>\n",
              "  </thead>\n",
              "  <tbody>\n",
              "    <tr>\n",
              "      <th>0</th>\n",
              "      <td>2004-01-28</td>\n",
              "    </tr>\n",
              "    <tr>\n",
              "      <th>1</th>\n",
              "      <td>2004-02-28</td>\n",
              "    </tr>\n",
              "    <tr>\n",
              "      <th>2</th>\n",
              "      <td>2004-03-28</td>\n",
              "    </tr>\n",
              "    <tr>\n",
              "      <th>3</th>\n",
              "      <td>2004-04-28</td>\n",
              "    </tr>\n",
              "    <tr>\n",
              "      <th>4</th>\n",
              "      <td>2004-05-28</td>\n",
              "    </tr>\n",
              "    <tr>\n",
              "      <th>...</th>\n",
              "      <td>...</td>\n",
              "    </tr>\n",
              "    <tr>\n",
              "      <th>175</th>\n",
              "      <td>2018-08-31</td>\n",
              "    </tr>\n",
              "    <tr>\n",
              "      <th>176</th>\n",
              "      <td>2018-09-30</td>\n",
              "    </tr>\n",
              "    <tr>\n",
              "      <th>177</th>\n",
              "      <td>2018-10-31</td>\n",
              "    </tr>\n",
              "    <tr>\n",
              "      <th>178</th>\n",
              "      <td>2018-11-30</td>\n",
              "    </tr>\n",
              "    <tr>\n",
              "      <th>179</th>\n",
              "      <td>2018-12-31</td>\n",
              "    </tr>\n",
              "  </tbody>\n",
              "</table>\n",
              "<p>180 rows × 1 columns</p>\n",
              "</div>"
            ],
            "text/plain": [
              "            ds\n",
              "0   2004-01-28\n",
              "1   2004-02-28\n",
              "2   2004-03-28\n",
              "3   2004-04-28\n",
              "4   2004-05-28\n",
              "..         ...\n",
              "175 2018-08-31\n",
              "176 2018-09-30\n",
              "177 2018-10-31\n",
              "178 2018-11-30\n",
              "179 2018-12-31\n",
              "\n",
              "[180 rows x 1 columns]"
            ]
          },
          "metadata": {
            "tags": []
          },
          "execution_count": 19
        }
      ]
    },
    {
      "cell_type": "code",
      "metadata": {
        "colab": {
          "base_uri": "https://localhost:8080/",
          "height": 588
        },
        "id": "fGinp9-wJrsD",
        "outputId": "7368e133-69cb-4cbc-dc21-65cbfb940fa3"
      },
      "source": [
        "valdiation_data"
      ],
      "execution_count": 20,
      "outputs": [
        {
          "output_type": "execute_result",
          "data": {
            "text/html": [
              "<div>\n",
              "<style scoped>\n",
              "    .dataframe tbody tr th:only-of-type {\n",
              "        vertical-align: middle;\n",
              "    }\n",
              "\n",
              "    .dataframe tbody tr th {\n",
              "        vertical-align: top;\n",
              "    }\n",
              "\n",
              "    .dataframe thead th {\n",
              "        text-align: right;\n",
              "    }\n",
              "</style>\n",
              "<table border=\"1\" class=\"dataframe\">\n",
              "  <thead>\n",
              "    <tr style=\"text-align: right;\">\n",
              "      <th></th>\n",
              "      <th>ds</th>\n",
              "      <th>y</th>\n",
              "    </tr>\n",
              "  </thead>\n",
              "  <tbody>\n",
              "    <tr>\n",
              "      <th>162</th>\n",
              "      <td>2017-07-31</td>\n",
              "      <td>59351.930543</td>\n",
              "    </tr>\n",
              "    <tr>\n",
              "      <th>163</th>\n",
              "      <td>2017-08-31</td>\n",
              "      <td>59531.471087</td>\n",
              "    </tr>\n",
              "    <tr>\n",
              "      <th>164</th>\n",
              "      <td>2017-09-30</td>\n",
              "      <td>59705.220000</td>\n",
              "    </tr>\n",
              "    <tr>\n",
              "      <th>165</th>\n",
              "      <td>2017-10-31</td>\n",
              "      <td>59930.687717</td>\n",
              "    </tr>\n",
              "    <tr>\n",
              "      <th>166</th>\n",
              "      <td>2017-11-30</td>\n",
              "      <td>60148.882283</td>\n",
              "    </tr>\n",
              "    <tr>\n",
              "      <th>167</th>\n",
              "      <td>2017-12-31</td>\n",
              "      <td>60374.350000</td>\n",
              "    </tr>\n",
              "    <tr>\n",
              "      <th>168</th>\n",
              "      <td>2018-01-31</td>\n",
              "      <td>60587.712667</td>\n",
              "    </tr>\n",
              "    <tr>\n",
              "      <th>169</th>\n",
              "      <td>2018-02-28</td>\n",
              "      <td>60780.427333</td>\n",
              "    </tr>\n",
              "    <tr>\n",
              "      <th>170</th>\n",
              "      <td>2018-03-31</td>\n",
              "      <td>60993.790000</td>\n",
              "    </tr>\n",
              "    <tr>\n",
              "      <th>171</th>\n",
              "      <td>2018-04-30</td>\n",
              "      <td>61133.965824</td>\n",
              "    </tr>\n",
              "    <tr>\n",
              "      <th>172</th>\n",
              "      <td>2018-05-31</td>\n",
              "      <td>61278.814176</td>\n",
              "    </tr>\n",
              "    <tr>\n",
              "      <th>173</th>\n",
              "      <td>2018-06-30</td>\n",
              "      <td>61418.990000</td>\n",
              "    </tr>\n",
              "    <tr>\n",
              "      <th>174</th>\n",
              "      <td>2018-07-31</td>\n",
              "      <td>61590.231304</td>\n",
              "    </tr>\n",
              "    <tr>\n",
              "      <th>175</th>\n",
              "      <td>2018-08-31</td>\n",
              "      <td>61761.472609</td>\n",
              "    </tr>\n",
              "    <tr>\n",
              "      <th>176</th>\n",
              "      <td>2018-09-30</td>\n",
              "      <td>61927.190000</td>\n",
              "    </tr>\n",
              "    <tr>\n",
              "      <th>177</th>\n",
              "      <td>2018-10-31</td>\n",
              "      <td>62084.740761</td>\n",
              "    </tr>\n",
              "    <tr>\n",
              "      <th>178</th>\n",
              "      <td>2018-11-30</td>\n",
              "      <td>62237.209239</td>\n",
              "    </tr>\n",
              "    <tr>\n",
              "      <th>179</th>\n",
              "      <td>2018-12-31</td>\n",
              "      <td>62394.760000</td>\n",
              "    </tr>\n",
              "  </tbody>\n",
              "</table>\n",
              "</div>"
            ],
            "text/plain": [
              "            ds             y\n",
              "162 2017-07-31  59351.930543\n",
              "163 2017-08-31  59531.471087\n",
              "164 2017-09-30  59705.220000\n",
              "165 2017-10-31  59930.687717\n",
              "166 2017-11-30  60148.882283\n",
              "167 2017-12-31  60374.350000\n",
              "168 2018-01-31  60587.712667\n",
              "169 2018-02-28  60780.427333\n",
              "170 2018-03-31  60993.790000\n",
              "171 2018-04-30  61133.965824\n",
              "172 2018-05-31  61278.814176\n",
              "173 2018-06-30  61418.990000\n",
              "174 2018-07-31  61590.231304\n",
              "175 2018-08-31  61761.472609\n",
              "176 2018-09-30  61927.190000\n",
              "177 2018-10-31  62084.740761\n",
              "178 2018-11-30  62237.209239\n",
              "179 2018-12-31  62394.760000"
            ]
          },
          "metadata": {
            "tags": []
          },
          "execution_count": 20
        }
      ]
    },
    {
      "cell_type": "code",
      "metadata": {
        "colab": {
          "base_uri": "https://localhost:8080/",
          "height": 600
        },
        "id": "o5Yck5NhmXHz",
        "outputId": "2d6a1ee3-e8d6-4696-fb89-478638d8a691"
      },
      "source": [
        "#Let's forecast\r\n",
        "forecast_df = model.predict(future_df)\r\n",
        "forecast_df"
      ],
      "execution_count": 21,
      "outputs": [
        {
          "output_type": "execute_result",
          "data": {
            "text/html": [
              "<div>\n",
              "<style scoped>\n",
              "    .dataframe tbody tr th:only-of-type {\n",
              "        vertical-align: middle;\n",
              "    }\n",
              "\n",
              "    .dataframe tbody tr th {\n",
              "        vertical-align: top;\n",
              "    }\n",
              "\n",
              "    .dataframe thead th {\n",
              "        text-align: right;\n",
              "    }\n",
              "</style>\n",
              "<table border=\"1\" class=\"dataframe\">\n",
              "  <thead>\n",
              "    <tr style=\"text-align: right;\">\n",
              "      <th></th>\n",
              "      <th>ds</th>\n",
              "      <th>trend</th>\n",
              "      <th>yhat_lower</th>\n",
              "      <th>yhat_upper</th>\n",
              "      <th>trend_lower</th>\n",
              "      <th>trend_upper</th>\n",
              "      <th>additive_terms</th>\n",
              "      <th>additive_terms_lower</th>\n",
              "      <th>additive_terms_upper</th>\n",
              "      <th>yearly</th>\n",
              "      <th>yearly_lower</th>\n",
              "      <th>yearly_upper</th>\n",
              "      <th>multiplicative_terms</th>\n",
              "      <th>multiplicative_terms_lower</th>\n",
              "      <th>multiplicative_terms_upper</th>\n",
              "      <th>yhat</th>\n",
              "    </tr>\n",
              "  </thead>\n",
              "  <tbody>\n",
              "    <tr>\n",
              "      <th>0</th>\n",
              "      <td>2004-01-28</td>\n",
              "      <td>43974.459177</td>\n",
              "      <td>43885.150437</td>\n",
              "      <td>44047.583318</td>\n",
              "      <td>43974.459177</td>\n",
              "      <td>43974.459177</td>\n",
              "      <td>-8.227155</td>\n",
              "      <td>-8.227155</td>\n",
              "      <td>-8.227155</td>\n",
              "      <td>-8.227155</td>\n",
              "      <td>-8.227155</td>\n",
              "      <td>-8.227155</td>\n",
              "      <td>0.0</td>\n",
              "      <td>0.0</td>\n",
              "      <td>0.0</td>\n",
              "      <td>43966.232022</td>\n",
              "    </tr>\n",
              "    <tr>\n",
              "      <th>1</th>\n",
              "      <td>2004-02-28</td>\n",
              "      <td>44072.397337</td>\n",
              "      <td>43980.493598</td>\n",
              "      <td>44141.673293</td>\n",
              "      <td>44072.397337</td>\n",
              "      <td>44072.397337</td>\n",
              "      <td>-10.839719</td>\n",
              "      <td>-10.839719</td>\n",
              "      <td>-10.839719</td>\n",
              "      <td>-10.839719</td>\n",
              "      <td>-10.839719</td>\n",
              "      <td>-10.839719</td>\n",
              "      <td>0.0</td>\n",
              "      <td>0.0</td>\n",
              "      <td>0.0</td>\n",
              "      <td>44061.557618</td>\n",
              "    </tr>\n",
              "    <tr>\n",
              "      <th>2</th>\n",
              "      <td>2004-03-28</td>\n",
              "      <td>44164.016907</td>\n",
              "      <td>44063.069939</td>\n",
              "      <td>44218.122966</td>\n",
              "      <td>44164.016907</td>\n",
              "      <td>44164.016907</td>\n",
              "      <td>-26.523005</td>\n",
              "      <td>-26.523005</td>\n",
              "      <td>-26.523005</td>\n",
              "      <td>-26.523005</td>\n",
              "      <td>-26.523005</td>\n",
              "      <td>-26.523005</td>\n",
              "      <td>0.0</td>\n",
              "      <td>0.0</td>\n",
              "      <td>0.0</td>\n",
              "      <td>44137.493902</td>\n",
              "    </tr>\n",
              "    <tr>\n",
              "      <th>3</th>\n",
              "      <td>2004-04-28</td>\n",
              "      <td>44261.955067</td>\n",
              "      <td>44173.903208</td>\n",
              "      <td>44330.516108</td>\n",
              "      <td>44261.955067</td>\n",
              "      <td>44261.955067</td>\n",
              "      <td>-13.440426</td>\n",
              "      <td>-13.440426</td>\n",
              "      <td>-13.440426</td>\n",
              "      <td>-13.440426</td>\n",
              "      <td>-13.440426</td>\n",
              "      <td>-13.440426</td>\n",
              "      <td>0.0</td>\n",
              "      <td>0.0</td>\n",
              "      <td>0.0</td>\n",
              "      <td>44248.514641</td>\n",
              "    </tr>\n",
              "    <tr>\n",
              "      <th>4</th>\n",
              "      <td>2004-05-28</td>\n",
              "      <td>44356.733932</td>\n",
              "      <td>44272.179657</td>\n",
              "      <td>44439.343339</td>\n",
              "      <td>44356.733932</td>\n",
              "      <td>44356.733932</td>\n",
              "      <td>-0.017248</td>\n",
              "      <td>-0.017248</td>\n",
              "      <td>-0.017248</td>\n",
              "      <td>-0.017248</td>\n",
              "      <td>-0.017248</td>\n",
              "      <td>-0.017248</td>\n",
              "      <td>0.0</td>\n",
              "      <td>0.0</td>\n",
              "      <td>0.0</td>\n",
              "      <td>44356.716685</td>\n",
              "    </tr>\n",
              "    <tr>\n",
              "      <th>...</th>\n",
              "      <td>...</td>\n",
              "      <td>...</td>\n",
              "      <td>...</td>\n",
              "      <td>...</td>\n",
              "      <td>...</td>\n",
              "      <td>...</td>\n",
              "      <td>...</td>\n",
              "      <td>...</td>\n",
              "      <td>...</td>\n",
              "      <td>...</td>\n",
              "      <td>...</td>\n",
              "      <td>...</td>\n",
              "      <td>...</td>\n",
              "      <td>...</td>\n",
              "      <td>...</td>\n",
              "      <td>...</td>\n",
              "    </tr>\n",
              "    <tr>\n",
              "      <th>175</th>\n",
              "      <td>2018-08-31</td>\n",
              "      <td>61422.404313</td>\n",
              "      <td>59988.141286</td>\n",
              "      <td>62637.837035</td>\n",
              "      <td>59956.640463</td>\n",
              "      <td>62625.237812</td>\n",
              "      <td>16.758111</td>\n",
              "      <td>16.758111</td>\n",
              "      <td>16.758111</td>\n",
              "      <td>16.758111</td>\n",
              "      <td>16.758111</td>\n",
              "      <td>16.758111</td>\n",
              "      <td>0.0</td>\n",
              "      <td>0.0</td>\n",
              "      <td>0.0</td>\n",
              "      <td>61439.162424</td>\n",
              "    </tr>\n",
              "    <tr>\n",
              "      <th>176</th>\n",
              "      <td>2018-09-30</td>\n",
              "      <td>61576.030565</td>\n",
              "      <td>59959.842211</td>\n",
              "      <td>62885.360537</td>\n",
              "      <td>59990.160921</td>\n",
              "      <td>62891.916640</td>\n",
              "      <td>-35.677875</td>\n",
              "      <td>-35.677875</td>\n",
              "      <td>-35.677875</td>\n",
              "      <td>-35.677875</td>\n",
              "      <td>-35.677875</td>\n",
              "      <td>-35.677875</td>\n",
              "      <td>0.0</td>\n",
              "      <td>0.0</td>\n",
              "      <td>0.0</td>\n",
              "      <td>61540.352690</td>\n",
              "    </tr>\n",
              "    <tr>\n",
              "      <th>177</th>\n",
              "      <td>2018-10-31</td>\n",
              "      <td>61734.777692</td>\n",
              "      <td>59954.513879</td>\n",
              "      <td>63172.105365</td>\n",
              "      <td>59990.355133</td>\n",
              "      <td>63229.044370</td>\n",
              "      <td>-23.315583</td>\n",
              "      <td>-23.315583</td>\n",
              "      <td>-23.315583</td>\n",
              "      <td>-23.315583</td>\n",
              "      <td>-23.315583</td>\n",
              "      <td>-23.315583</td>\n",
              "      <td>0.0</td>\n",
              "      <td>0.0</td>\n",
              "      <td>0.0</td>\n",
              "      <td>61711.462109</td>\n",
              "    </tr>\n",
              "    <tr>\n",
              "      <th>178</th>\n",
              "      <td>2018-11-30</td>\n",
              "      <td>61888.403944</td>\n",
              "      <td>59960.561069</td>\n",
              "      <td>63563.343753</td>\n",
              "      <td>59958.165650</td>\n",
              "      <td>63567.350144</td>\n",
              "      <td>-7.491724</td>\n",
              "      <td>-7.491724</td>\n",
              "      <td>-7.491724</td>\n",
              "      <td>-7.491724</td>\n",
              "      <td>-7.491724</td>\n",
              "      <td>-7.491724</td>\n",
              "      <td>0.0</td>\n",
              "      <td>0.0</td>\n",
              "      <td>0.0</td>\n",
              "      <td>61880.912220</td>\n",
              "    </tr>\n",
              "    <tr>\n",
              "      <th>179</th>\n",
              "      <td>2018-12-31</td>\n",
              "      <td>62047.151071</td>\n",
              "      <td>59980.107356</td>\n",
              "      <td>63989.047526</td>\n",
              "      <td>59910.244589</td>\n",
              "      <td>63881.878719</td>\n",
              "      <td>70.382446</td>\n",
              "      <td>70.382446</td>\n",
              "      <td>70.382446</td>\n",
              "      <td>70.382446</td>\n",
              "      <td>70.382446</td>\n",
              "      <td>70.382446</td>\n",
              "      <td>0.0</td>\n",
              "      <td>0.0</td>\n",
              "      <td>0.0</td>\n",
              "      <td>62117.533517</td>\n",
              "    </tr>\n",
              "  </tbody>\n",
              "</table>\n",
              "<p>180 rows × 16 columns</p>\n",
              "</div>"
            ],
            "text/plain": [
              "            ds         trend  ...  multiplicative_terms_upper          yhat\n",
              "0   2004-01-28  43974.459177  ...                         0.0  43966.232022\n",
              "1   2004-02-28  44072.397337  ...                         0.0  44061.557618\n",
              "2   2004-03-28  44164.016907  ...                         0.0  44137.493902\n",
              "3   2004-04-28  44261.955067  ...                         0.0  44248.514641\n",
              "4   2004-05-28  44356.733932  ...                         0.0  44356.716685\n",
              "..         ...           ...  ...                         ...           ...\n",
              "175 2018-08-31  61422.404313  ...                         0.0  61439.162424\n",
              "176 2018-09-30  61576.030565  ...                         0.0  61540.352690\n",
              "177 2018-10-31  61734.777692  ...                         0.0  61711.462109\n",
              "178 2018-11-30  61888.403944  ...                         0.0  61880.912220\n",
              "179 2018-12-31  62047.151071  ...                         0.0  62117.533517\n",
              "\n",
              "[180 rows x 16 columns]"
            ]
          },
          "metadata": {
            "tags": []
          },
          "execution_count": 21
        }
      ]
    },
    {
      "cell_type": "code",
      "metadata": {
        "colab": {
          "base_uri": "https://localhost:8080/",
          "height": 441
        },
        "id": "te8IMs-wC-mx",
        "outputId": "3ccda4f6-0336-4199-eddd-11e2c4c2ff26"
      },
      "source": [
        "#plotting\r\n",
        "model.plot(forecast_df);"
      ],
      "execution_count": 22,
      "outputs": [
        {
          "output_type": "display_data",
          "data": {
            "image/png": "[encoded data removed]",
            "text/plain": [
              "<Figure size 720x432 with 1 Axes>"
            ]
          },
          "metadata": {
            "tags": []
          }
        }
      ]
    },
    {
      "cell_type": "code",
      "metadata": {
        "colab": {
          "base_uri": "https://localhost:8080/",
          "height": 441
        },
        "id": "KdhwtbSnDDiS",
        "outputId": "7f25ce64-9f85-4ac7-f83b-d5d5a34323db"
      },
      "source": [
        "model.plot_components(forecast_df);"
      ],
      "execution_count": 23,
      "outputs": [
        {
          "output_type": "display_data",
          "data": {
            "image/png": "[encoded data removed]",
            "text/plain": [
              "<Figure size 648x432 with 2 Axes>"
            ]
          },
          "metadata": {
            "tags": []
          }
        }
      ]
    },
    {
      "cell_type": "code",
      "metadata": {
        "id": "8iGyjtNYDMmW",
        "colab": {
          "base_uri": "https://localhost:8080/"
        },
        "outputId": "46acb72b-b196-4c20-b359-b1680a7e9cae"
      },
      "source": [
        "yhat_forecast = forecast_df[\"yhat\"][162:]\r\n",
        "yhat_forecast"
      ],
      "execution_count": 30,
      "outputs": [
        {
          "output_type": "execute_result",
          "data": {
            "text/plain": [
              "162    59442.342707\n",
              "163    59571.498578\n",
              "164    59669.706146\n",
              "165    59840.391934\n",
              "166    60008.274050\n",
              "167    60253.139855\n",
              "168    60372.076682\n",
              "169    60458.932679\n",
              "170    60627.261205\n",
              "171    60773.256651\n",
              "172    60946.181906\n",
              "173    61112.308574\n",
              "174    61308.662326\n",
              "175    61439.162424\n",
              "176    61540.352690\n",
              "177    61711.462109\n",
              "178    61880.912220\n",
              "179    62117.533517\n",
              "Name: yhat, dtype: float64"
            ]
          },
          "metadata": {
            "tags": []
          },
          "execution_count": 30
        }
      ]
    },
    {
      "cell_type": "code",
      "metadata": {
        "colab": {
          "base_uri": "https://localhost:8080/"
        },
        "id": "qXPPXpSpdwIq",
        "outputId": "cfb80212-a714-4a0f-fece-c8a7b3ad6da0"
      },
      "source": [
        "yactual = valdiation_data[\"y\"]\r\n",
        "yactual"
      ],
      "execution_count": 33,
      "outputs": [
        {
          "output_type": "execute_result",
          "data": {
            "text/plain": [
              "162    59351.930543\n",
              "163    59531.471087\n",
              "164    59705.220000\n",
              "165    59930.687717\n",
              "166    60148.882283\n",
              "167    60374.350000\n",
              "168    60587.712667\n",
              "169    60780.427333\n",
              "170    60993.790000\n",
              "171    61133.965824\n",
              "172    61278.814176\n",
              "173    61418.990000\n",
              "174    61590.231304\n",
              "175    61761.472609\n",
              "176    61927.190000\n",
              "177    62084.740761\n",
              "178    62237.209239\n",
              "179    62394.760000\n",
              "Name: y, dtype: float64"
            ]
          },
          "metadata": {
            "tags": []
          },
          "execution_count": 33
        }
      ]
    },
    {
      "cell_type": "code",
      "metadata": {
        "colab": {
          "base_uri": "https://localhost:8080/"
        },
        "id": "fxKpoCj3dKlq",
        "outputId": "51ca3cde-db17-445d-f51e-939db97b8afb"
      },
      "source": [
        "#RMSE\r\n",
        "from sklearn.metrics import mean_squared_error\r\n",
        "\r\n",
        "rmse = mean_squared_error(yactual, yhat_forecast, squared=False)\r\n",
        "rmse"
      ],
      "execution_count": 37,
      "outputs": [
        {
          "output_type": "execute_result",
          "data": {
            "text/plain": [
              "273.7203219821144"
            ]
          },
          "metadata": {
            "tags": []
          },
          "execution_count": 37
        }
      ]
    },
    {
      "cell_type": "code",
      "metadata": {
        "colab": {
          "base_uri": "https://localhost:8080/"
        },
        "id": "AXAM3nwWd7Kb",
        "outputId": "9d3bc9ad-63ec-4032-9cc2-021b32aebe83"
      },
      "source": [
        "#R2\r\n",
        "from sklearn.metrics import r2_score \r\n",
        "\r\n",
        "r2 = r2_score(yactual, yhat_forecast)\r\n",
        "r2"
      ],
      "execution_count": 38,
      "outputs": [
        {
          "output_type": "execute_result",
          "data": {
            "text/plain": [
              "0.9141325162865233"
            ]
          },
          "metadata": {
            "tags": []
          },
          "execution_count": 38
        }
      ]
    },
    {
      "cell_type": "markdown",
      "metadata": {
        "id": "vwiKE-AIewT8"
      },
      "source": [
        "# Double Expoential Smoothing"
      ]
    },
    {
      "cell_type": "code",
      "metadata": {
        "colab": {
          "base_uri": "https://localhost:8080/"
        },
        "id": "vPFQDfJoeses",
        "outputId": "9416b07f-87e2-4801-beb5-f2887143eb74"
      },
      "source": [
        "#library\r\n",
        "from statsmodels.tsa.api import Holt\r\n",
        "\r\n",
        "train_ds = train_data['y']\r\n",
        "des = Holt(train_ds).fit(optimized=True)\r\n",
        "des_preds = des.forecast(len(valdiation_data))\r\n",
        "\r\n",
        "des_preds"
      ],
      "execution_count": 40,
      "outputs": [
        {
          "output_type": "execute_result",
          "data": {
            "text/plain": [
              "162    59323.727483\n",
              "163    59474.992859\n",
              "164    59626.258235\n",
              "165    59777.523612\n",
              "166    59928.788988\n",
              "167    60080.054364\n",
              "168    60231.319741\n",
              "169    60382.585117\n",
              "170    60533.850493\n",
              "171    60685.115870\n",
              "172    60836.381246\n",
              "173    60987.646622\n",
              "174    61138.911999\n",
              "175    61290.177375\n",
              "176    61441.442751\n",
              "177    61592.708128\n",
              "178    61743.973504\n",
              "179    61895.238880\n",
              "dtype: float64"
            ]
          },
          "metadata": {
            "tags": []
          },
          "execution_count": 40
        }
      ]
    },
    {
      "cell_type": "code",
      "metadata": {
        "colab": {
          "base_uri": "https://localhost:8080/"
        },
        "id": "mH09ChOWf0Wd",
        "outputId": "75b4bd17-1ac7-4da5-abf2-546e4ed6515c"
      },
      "source": [
        "rmse_des = mean_squared_error(yactual, des_preds, squared=False)\r\n",
        "rmse_des"
      ],
      "execution_count": 41,
      "outputs": [
        {
          "output_type": "execute_result",
          "data": {
            "text/plain": [
              "383.3693480472215"
            ]
          },
          "metadata": {
            "tags": []
          },
          "execution_count": 41
        }
      ]
    },
    {
      "cell_type": "code",
      "metadata": {
        "colab": {
          "base_uri": "https://localhost:8080/"
        },
        "id": "p_eGYjmif_dT",
        "outputId": "a0de6164-3d0b-4e2e-da08-459fdb6d6359"
      },
      "source": [
        "r2_des = r2_score(yactual, des_preds)\r\n",
        "r2_des"
      ],
      "execution_count": 42,
      "outputs": [
        {
          "output_type": "execute_result",
          "data": {
            "text/plain": [
              "0.8315583741888694"
            ]
          },
          "metadata": {
            "tags": []
          },
          "execution_count": 42
        }
      ]
    },
    {
      "cell_type": "code",
      "metadata": {
        "colab": {
          "base_uri": "https://localhost:8080/",
          "height": 281
        },
        "id": "0OEHBDmtfDRH",
        "outputId": "3570cc9d-f2cb-4b3d-b0e7-dae79e18988a"
      },
      "source": [
        "#plotting\r\n",
        "plt.plot(train_data['ds'],train_data['y'] , 'b--', label=\"train\")\r\n",
        "plt.plot(valdiation_data['ds'], valdiation_data['y'], color='orange', linestyle=\"--\", label=\"Validation\")\r\n",
        "plt.plot(valdiation_data['ds'], des_preds, 'r--', label=\"predictions\")\r\n",
        "plt.legend(loc='upper left')\r\n",
        "plt.title(\"Double Exponential Smoothing\");"
      ],
      "execution_count": 47,
      "outputs": [
        {
          "output_type": "display_data",
          "data": {
            "image/png": "[encoded data removed]",
            "text/plain": [
              "<Figure size 432x288 with 1 Axes>"
            ]
          },
          "metadata": {
            "tags": [],
            "needs_background": "light"
          }
        }
      ]
    },
    {
      "cell_type": "code",
      "metadata": {
        "id": "-IbQmj2KgLrH"
      },
      "source": [
        ""
      ],
      "execution_count": null,
      "outputs": []
    }
  ]
}